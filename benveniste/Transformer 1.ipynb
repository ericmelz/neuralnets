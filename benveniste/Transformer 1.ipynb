{
 "cells": [
  {
   "cell_type": "code",
   "execution_count": 3,
   "id": "1f594c55-54dc-4087-81d7-f2f1531e2da6",
   "metadata": {},
   "outputs": [],
   "source": [
    "import torch\n",
    "import torch.nn as nn\n",
    "import torch.nn.functional as F"
   ]
  },
  {
   "cell_type": "markdown",
   "id": "1dc3e66d-dc6a-4fdf-97be-a1ce09020c19",
   "metadata": {},
   "source": [
    "# Attention"
   ]
  },
  {
   "cell_type": "code",
   "execution_count": 97,
   "id": "22decf90-df06-4c72-81c7-da65dab48d7f",
   "metadata": {},
   "outputs": [],
   "source": [
    "class Attention(nn.Module):\n",
    "    def __init__(self, d_in, d_out):\n",
    "        \"\"\"\n",
    "        Parameters:\n",
    "        - d_in (int): size of input - the hidden size aka d_model\n",
    "        - d_out (int): size of output - the length of the k and q vectors\n",
    "        \"\"\"\n",
    "        super().__init__()\n",
    "        self.d_in = d_in\n",
    "        self.d_out = d_out\n",
    "        self.Q = nn.Linear(d_in, d_out)\n",
    "        self.K = nn.Linear(d_in, d_out)\n",
    "        self.V = nn.Linear(d_in, d_out)\n",
    "\n",
    "    def forward(self, x):\n",
    "        queries = self.Q(x)\n",
    "        keys = self.K(x)\n",
    "        values = self.V(x)\n",
    "        scores = torch.bmm(queries, keys.transpose(1, 2))\n",
    "        scores = scores / (self.d_out ** 0.5)\n",
    "        attention = F.softmax(scores, dim=2)\n",
    "        hidden_states = torch.bmm(attention, values)\n",
    "        return hidden_states        "
   ]
  },
  {
   "cell_type": "code",
   "execution_count": 106,
   "id": "537628ec-1b6d-4d7c-9b71-abbd6239c4f5",
   "metadata": {},
   "outputs": [],
   "source": [
    "SOS_token = 0\n",
    "EOS_token = 0\n",
    "\n",
    "index2words = {\n",
    "    SOS_token: 'SOS',\n",
    "    EOS_token: 'EOS',\n",
    "}\n",
    "\n",
    "words = \"How are you doing ? I am good and you ?\"\n",
    "words_list = set(words.lower().split())\n",
    "for word in words_list:\n",
    "    index2words[len(index2words)] = word\n",
    "\n",
    "words2index = {w: i for i, w in index2words.items()}"
   ]
  },
  {
   "cell_type": "code",
   "execution_count": 107,
   "id": "996a348f-50c0-43f5-b332-2027f8736db5",
   "metadata": {},
   "outputs": [],
   "source": [
    "def convert2tensors(sentence):\n",
    "    words_list = sentence.lower().split(' ')\n",
    "    indexes = [words2index[word] for word in words_list]\n",
    "    return torch.tensor(indexes, dtype=torch.long).view(1, -1)"
   ]
  },
  {
   "cell_type": "code",
   "execution_count": 110,
   "id": "f39c41f2-3565-4ad9-8fc6-67eb08983238",
   "metadata": {},
   "outputs": [
    {
     "data": {
      "text/plain": [
       "tensor([[3, 6, 1, 7, 2, 8, 4, 9, 5, 1, 2]])"
      ]
     },
     "execution_count": 110,
     "metadata": {},
     "output_type": "execute_result"
    }
   ],
   "source": [
    "sentence = \"How are you doing ? I am good and you ?\"\n",
    "convert2tensors(sentence)"
   ]
  },
  {
   "cell_type": "code",
   "execution_count": 124,
   "id": "9bd8faea-64e0-4564-acc8-ceb672f615b0",
   "metadata": {},
   "outputs": [],
   "source": [
    "HIDDEN_SIZE = 10\n",
    "VOCAB_SIZE = len(words2index)\n",
    "\n",
    "embedding = nn.Embedding(VOCAB_SIZE, HIDDEN_SIZE)\n",
    "attention = Attention(HIDDEN_SIZE, HIDDEN_SIZE)\n",
    "\n",
    "sentence = \"How are you doing ?\"\n",
    "input_tensor = convert2tensors(sentence)\n",
    "embedded = embedding(input_tensor)\n",
    "hidden_states = attention(embedded)"
   ]
  },
  {
   "cell_type": "markdown",
   "id": "aa71c004-cedb-4b22-9021-f232e5a03be7",
   "metadata": {},
   "source": [
    "# Multihead Attention"
   ]
  },
  {
   "cell_type": "code",
   "execution_count": 125,
   "id": "d44a831f-a471-45a3-b35f-7f61eecf4648",
   "metadata": {},
   "outputs": [],
   "source": [
    "class MultiheadAttention(nn.Module):\n",
    "    def __init__(self, hidden_size, num_heads):\n",
    "        super().__init__()\n",
    "        self.hidden_size = hidden_size\n",
    "        self.num_heads = num_heads\n",
    "        self.out = nn.Linear(hidden_size, hidden_size)\n",
    "        self.heads = nn.ModuleList([\n",
    "            Attention(hidden_size, hidden_size // num_heads)\n",
    "            for _ in range(num_heads)\n",
    "        ])\n",
    "\n",
    "    def forward(self, x):\n",
    "        outputs = [head(x) for head in self.heads]\n",
    "        outputs = torch.cat(outputs, dim=2)\n",
    "        hidden_states = self.out(outputs)\n",
    "        return hidden_states"
   ]
  },
  {
   "cell_type": "code",
   "execution_count": 127,
   "id": "587a5c26-d67f-49d6-b26b-e4630ce627b9",
   "metadata": {},
   "outputs": [],
   "source": [
    "NUM_HEADS = 3\n",
    "HIDDEN_SIZE = 12\n",
    "VOCAB_SIZE = len(words2index)\n",
    "\n",
    "multi_att = MultiheadAttention(HIDDEN_SIZE, NUM_HEADS)\n",
    "embedding = nn.Embedding(VOCAB_SIZE, HIDDEN_SIZE)\n",
    "\n",
    "sentence = \"How are you doing ?\"\n",
    "input_tensor = convert2tensors(sentence)\n",
    "embedded = embedding(input_tensor)\n",
    "hidden_states = multi_att(embedded)"
   ]
  },
  {
   "cell_type": "code",
   "execution_count": 128,
   "id": "3642c9b7-648f-4940-aa7a-b25e6279630e",
   "metadata": {},
   "outputs": [
    {
     "data": {
      "text/plain": [
       "torch.Size([1, 5, 12])"
      ]
     },
     "execution_count": 128,
     "metadata": {},
     "output_type": "execute_result"
    }
   ],
   "source": [
    "hidden_states.shape"
   ]
  },
  {
   "cell_type": "code",
   "execution_count": 129,
   "id": "6e3c312e-16df-403d-9a97-056d775059a5",
   "metadata": {},
   "outputs": [
    {
     "data": {
      "text/plain": [
       "tensor([[[ 0.0108,  0.0522,  0.1712,  0.2370, -0.0738, -0.2954,  0.0350,\n",
       "          -0.0551,  0.0423, -0.1061, -0.0453, -0.0933],\n",
       "         [ 0.0239,  0.0556,  0.1297,  0.1967, -0.0386, -0.2766,  0.0329,\n",
       "          -0.0894,  0.0359, -0.1271, -0.0508, -0.1351],\n",
       "         [-0.0068,  0.1204,  0.0525,  0.1229,  0.0398, -0.2572,  0.0457,\n",
       "          -0.1234,  0.0786, -0.1508, -0.0979, -0.2468],\n",
       "         [-0.0199,  0.0468,  0.1574,  0.2117, -0.0436, -0.2889,  0.0429,\n",
       "          -0.0565,  0.0578, -0.1142, -0.0644, -0.1291],\n",
       "         [-0.0412,  0.0683,  0.1340,  0.1760, -0.0055, -0.2682,  0.0511,\n",
       "          -0.0569,  0.0727, -0.1113, -0.0643, -0.1850]]],\n",
       "       grad_fn=<ViewBackward0>)"
      ]
     },
     "execution_count": 129,
     "metadata": {},
     "output_type": "execute_result"
    }
   ],
   "source": [
    "hidden_states"
   ]
  },
  {
   "cell_type": "code",
   "execution_count": 137,
   "id": "dae18f22-2fb7-40dd-9d74-e066cb480847",
   "metadata": {},
   "outputs": [],
   "source": [
    "class MultiheadAttention(nn.Module):\n",
    "    def __init__(self, hidden_size, num_heads):\n",
    "        super().__init__()\n",
    "\n",
    "        self.hidden_size = hidden_size\n",
    "        self.num_heads = num_heads\n",
    "        self.head_dim = hidden_size // num_heads\n",
    "\n",
    "        self.qkv_linear = nn.Linear(hidden_size, hidden_size * 3)\n",
    "        self.out = nn.Linear(hidden_size, hidden_size)\n",
    "\n",
    "    def forward(self, x):\n",
    "        batch_size, seq_length, hidden_size = x.size()\n",
    "\n",
    "        # (batch_size, seq_length, hidden_size * 3)\n",
    "        qkv = self.qkv_linear(x)\n",
    "        # (batch_size, seq_length, num_heads, head_dim * 3)\n",
    "        qkv = qkv.reshape(batch_size, seq_length, self.num_heads, 3 * self.head_dim)\n",
    "        # (batch_size, num_heads, seq_length, head_dim * 3)\n",
    "        qkv = qkv.transpose(1, 2)\n",
    "        # (batch_size, num_heads, seq_length, head_dim)\n",
    "        queries, keys, values = qkv.chunk(3, dim=-1)\n",
    "\n",
    "        # (batch_size, num_heads, seq_length, seq_length)\n",
    "        scores = torch.matmul(queries, keys.transpose(2, 3))\n",
    "        # (batch_size, num_heads, seq_length, seq_length)\n",
    "        scores = scores / (self.head_dim ** 0.5)\n",
    "        # (batch_size, num_heads, seq_length, seq_length)\n",
    "        attention = F.softmax(scores, dim=-1)\n",
    "        # (batch_size, num_heads, seq_length, head_dim)\n",
    "        context = torch.matmul(attention, values)\n",
    "        # (batch_size, seq_length, num_heads, head_dim)\n",
    "        context = context.transpose(1, 2)\n",
    "        # (batch_size, seq_length, hidden_size)\n",
    "        context = context.reshape(batch_size, seq_length, hidden_size)\n",
    "        # (batch_size, seq_length, hidden_size)\n",
    "        output = self.out(context)\n",
    "        return output\n",
    "        \n",
    "        \n",
    "        "
   ]
  },
  {
   "cell_type": "code",
   "execution_count": 138,
   "id": "b4bfe0b3-51a5-4aec-9e3d-2ebecc6fa383",
   "metadata": {},
   "outputs": [],
   "source": [
    "NUM_HEADS = 3\n",
    "HIDDEN_SIZE = 12\n",
    "VOCAB_SIZE = len(words2index)\n",
    "\n",
    "multi_att = MultiheadAttention(HIDDEN_SIZE, NUM_HEADS)\n",
    "embedding = nn.Embedding(VOCAB_SIZE, HIDDEN_SIZE)\n",
    "\n",
    "sentence = \"How are you doing ?\"\n",
    "input_tensor = convert2tensors(sentence)\n",
    "embedded = embedding(input_tensor)\n",
    "hidden_states = multi_att(embedded)"
   ]
  },
  {
   "cell_type": "code",
   "execution_count": 139,
   "id": "cb023410-b2c7-42f7-b453-5968a1f7a77e",
   "metadata": {},
   "outputs": [
    {
     "data": {
      "text/plain": [
       "torch.Size([1, 5, 12])"
      ]
     },
     "execution_count": 139,
     "metadata": {},
     "output_type": "execute_result"
    }
   ],
   "source": [
    "hidden_states.size()"
   ]
  },
  {
   "cell_type": "code",
   "execution_count": null,
   "id": "daec8eb0-66c3-4779-9cba-9c143dbf7dc5",
   "metadata": {},
   "outputs": [],
   "source": []
  }
 ],
 "metadata": {
  "kernelspec": {
   "display_name": "Python 3 (ipykernel)",
   "language": "python",
   "name": "python3"
  },
  "language_info": {
   "codemirror_mode": {
    "name": "ipython",
    "version": 3
   },
   "file_extension": ".py",
   "mimetype": "text/x-python",
   "name": "python",
   "nbconvert_exporter": "python",
   "pygments_lexer": "ipython3",
   "version": "3.12.11"
  }
 },
 "nbformat": 4,
 "nbformat_minor": 5
}
