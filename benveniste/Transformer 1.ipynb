{
 "cells": [
  {
   "cell_type": "code",
   "execution_count": 3,
   "id": "1f594c55-54dc-4087-81d7-f2f1531e2da6",
   "metadata": {},
   "outputs": [],
   "source": [
    "import torch\n",
    "import torch.nn as nn\n",
    "import torch.nn.functional as F"
   ]
  },
  {
   "cell_type": "markdown",
   "id": "1dc3e66d-dc6a-4fdf-97be-a1ce09020c19",
   "metadata": {},
   "source": [
    "# Attention"
   ]
  },
  {
   "cell_type": "code",
   "execution_count": 144,
   "id": "22decf90-df06-4c72-81c7-da65dab48d7f",
   "metadata": {},
   "outputs": [],
   "source": [
    "class Attention(nn.Module):\n",
    "    def __init__(self, d_in, d_out):\n",
    "        \"\"\"\n",
    "        Parameters:\n",
    "        - d_in (int): size of input - the hidden size aka d_model\n",
    "        - d_out (int): size of output - the length of the k and q vectors\n",
    "        \"\"\"\n",
    "        super().__init__()\n",
    "        self.d_in = d_in\n",
    "        self.d_out = d_out\n",
    "        self.Q = nn.Linear(d_in, d_out)\n",
    "        self.K = nn.Linear(d_in, d_out)\n",
    "        self.V = nn.Linear(d_in, d_out)\n",
    "\n",
    "    def forward(self, x):\n",
    "        # x is (batch_size, seq_len, hidden_size)\n",
    "        # queries, keys, values are (batch_size, seq_len, d_out)\n",
    "        queries = self.Q(x)\n",
    "        keys = self.K(x)\n",
    "        values = self.V(x)\n",
    "        \n",
    "        # transpose keys => (batch_size, d_out, seq_len)\n",
    "        #\n",
    "        # Example: \n",
    "        # seq_len = 5, d_out = 2\n",
    "        #                    v\n",
    "        # Q: | x x |<   K: | x x x x x |      | X x x x x |\n",
    "        #    | x x |       | x x x x x |      | x x x x x |\n",
    "        #    | x x |  @                    =  | x x x x x |\n",
    "        #    | x x |                          | x x x x x |\n",
    "        #    | x x |                          | x x x x x |\n",
    "        #\n",
    "        # X represents the dot product of the 1x2 Q vector in row 1 of Q and the 2x1 K vector in col 1 of K\n",
    "        # See < and v for positions in Q and K\n",
    "        #\n",
    "        # scores, attention = (batch_size, seq_len, seq_len)\n",
    "        scores = torch.bmm(queries, keys.transpose(1, 2))\n",
    "        scores = scores / (self.d_out ** 0.5)\n",
    "        attention = F.softmax(scores, dim=2)\n",
    "\n",
    "        # Hidden states\n",
    "        # Iterate over weights for each query, generating weighted sum of all values in seq\n",
    "        # A: | x x x x x |     V: | x x |   | x x |\n",
    "        #    | x x x x x |        | x x |   | x x |\n",
    "        #    | x x x x x |  @     | x x | = | x x |\n",
    "        #    | x x x x x |        | x x |   | x x |\n",
    "        #    | x x x x x |        | x x |   | x x |\n",
    "        # \n",
    "        hidden_states = torch.bmm(attention, values)\n",
    "        return hidden_states        "
   ]
  },
  {
   "cell_type": "code",
   "execution_count": 145,
   "id": "537628ec-1b6d-4d7c-9b71-abbd6239c4f5",
   "metadata": {},
   "outputs": [],
   "source": [
    "SOS_token = 0\n",
    "EOS_token = 0\n",
    "\n",
    "index2words = {\n",
    "    SOS_token: 'SOS',\n",
    "    EOS_token: 'EOS',\n",
    "}\n",
    "\n",
    "words = \"How are you doing ? I am good and you ?\"\n",
    "words_list = set(words.lower().split())\n",
    "for word in words_list:\n",
    "    index2words[len(index2words)] = word\n",
    "\n",
    "words2index = {w: i for i, w in index2words.items()}"
   ]
  },
  {
   "cell_type": "code",
   "execution_count": 107,
   "id": "996a348f-50c0-43f5-b332-2027f8736db5",
   "metadata": {},
   "outputs": [],
   "source": [
    "def convert2tensors(sentence):\n",
    "    words_list = sentence.lower().split(' ')\n",
    "    indexes = [words2index[word] for word in words_list]\n",
    "    return torch.tensor(indexes, dtype=torch.long).view(1, -1)"
   ]
  },
  {
   "cell_type": "code",
   "execution_count": 110,
   "id": "f39c41f2-3565-4ad9-8fc6-67eb08983238",
   "metadata": {},
   "outputs": [
    {
     "data": {
      "text/plain": [
       "tensor([[3, 6, 1, 7, 2, 8, 4, 9, 5, 1, 2]])"
      ]
     },
     "execution_count": 110,
     "metadata": {},
     "output_type": "execute_result"
    }
   ],
   "source": [
    "sentence = \"How are you doing ? I am good and you ?\"\n",
    "convert2tensors(sentence)"
   ]
  },
  {
   "cell_type": "code",
   "execution_count": 124,
   "id": "9bd8faea-64e0-4564-acc8-ceb672f615b0",
   "metadata": {},
   "outputs": [],
   "source": [
    "HIDDEN_SIZE = 10\n",
    "VOCAB_SIZE = len(words2index)\n",
    "\n",
    "embedding = nn.Embedding(VOCAB_SIZE, HIDDEN_SIZE)\n",
    "attention = Attention(HIDDEN_SIZE, HIDDEN_SIZE)\n",
    "\n",
    "sentence = \"How are you doing ?\"\n",
    "input_tensor = convert2tensors(sentence)\n",
    "embedded = embedding(input_tensor)\n",
    "hidden_states = attention(embedded)"
   ]
  },
  {
   "cell_type": "markdown",
   "id": "aa71c004-cedb-4b22-9021-f232e5a03be7",
   "metadata": {},
   "source": [
    "# Multihead Attention"
   ]
  },
  {
   "cell_type": "code",
   "execution_count": 146,
   "id": "d44a831f-a471-45a3-b35f-7f61eecf4648",
   "metadata": {},
   "outputs": [],
   "source": [
    "class MultiheadAttention(nn.Module):\n",
    "    def __init__(self, hidden_size, num_heads):\n",
    "        super().__init__()\n",
    "        self.hidden_size = hidden_size\n",
    "        self.num_heads = num_heads\n",
    "        self.out = nn.Linear(hidden_size, hidden_size)\n",
    "        self.heads = nn.ModuleList([\n",
    "            Attention(hidden_size, hidden_size // num_heads)\n",
    "            for _ in range(num_heads)\n",
    "        ])\n",
    "\n",
    "    def forward(self, x):\n",
    "        # List[ (batch, seq_len, hidden_size // num_heads ) ], len(list) = num_heads \n",
    "        outputs = [head(x) for head in self.heads]\n",
    "        # (batch, seq_len, (hidden_size // num_heads) * num_heads) = (batch, seq_len, hidden_size)\n",
    "        outputs = torch.cat(outputs, dim=2)\n",
    "        # (batch, seq_len, hidden_size)\n",
    "        hidden_states = self.out(outputs)\n",
    "        return hidden_states"
   ]
  },
  {
   "cell_type": "code",
   "execution_count": 147,
   "id": "587a5c26-d67f-49d6-b26b-e4630ce627b9",
   "metadata": {},
   "outputs": [],
   "source": [
    "NUM_HEADS = 3\n",
    "HIDDEN_SIZE = 12\n",
    "VOCAB_SIZE = len(words2index)\n",
    "\n",
    "multi_att = MultiheadAttention(HIDDEN_SIZE, NUM_HEADS)\n",
    "embedding = nn.Embedding(VOCAB_SIZE, HIDDEN_SIZE)\n",
    "\n",
    "sentence = \"How are you doing ?\"\n",
    "input_tensor = convert2tensors(sentence)\n",
    "embedded = embedding(input_tensor)\n",
    "hidden_states = multi_att(embedded)"
   ]
  },
  {
   "cell_type": "code",
   "execution_count": 148,
   "id": "3642c9b7-648f-4940-aa7a-b25e6279630e",
   "metadata": {},
   "outputs": [
    {
     "data": {
      "text/plain": [
       "torch.Size([1, 5, 12])"
      ]
     },
     "execution_count": 148,
     "metadata": {},
     "output_type": "execute_result"
    }
   ],
   "source": [
    "hidden_states.shape"
   ]
  },
  {
   "cell_type": "code",
   "execution_count": 129,
   "id": "6e3c312e-16df-403d-9a97-056d775059a5",
   "metadata": {},
   "outputs": [
    {
     "data": {
      "text/plain": [
       "tensor([[[ 0.0108,  0.0522,  0.1712,  0.2370, -0.0738, -0.2954,  0.0350,\n",
       "          -0.0551,  0.0423, -0.1061, -0.0453, -0.0933],\n",
       "         [ 0.0239,  0.0556,  0.1297,  0.1967, -0.0386, -0.2766,  0.0329,\n",
       "          -0.0894,  0.0359, -0.1271, -0.0508, -0.1351],\n",
       "         [-0.0068,  0.1204,  0.0525,  0.1229,  0.0398, -0.2572,  0.0457,\n",
       "          -0.1234,  0.0786, -0.1508, -0.0979, -0.2468],\n",
       "         [-0.0199,  0.0468,  0.1574,  0.2117, -0.0436, -0.2889,  0.0429,\n",
       "          -0.0565,  0.0578, -0.1142, -0.0644, -0.1291],\n",
       "         [-0.0412,  0.0683,  0.1340,  0.1760, -0.0055, -0.2682,  0.0511,\n",
       "          -0.0569,  0.0727, -0.1113, -0.0643, -0.1850]]],\n",
       "       grad_fn=<ViewBackward0>)"
      ]
     },
     "execution_count": 129,
     "metadata": {},
     "output_type": "execute_result"
    }
   ],
   "source": [
    "hidden_states"
   ]
  },
  {
   "cell_type": "code",
   "execution_count": 149,
   "id": "dae18f22-2fb7-40dd-9d74-e066cb480847",
   "metadata": {},
   "outputs": [],
   "source": [
    "class MultiheadAttention(nn.Module):\n",
    "    def __init__(self, hidden_size, num_heads):\n",
    "        super().__init__()\n",
    "\n",
    "        self.hidden_size = hidden_size\n",
    "        self.num_heads = num_heads\n",
    "        self.head_dim = hidden_size // num_heads\n",
    "\n",
    "        self.qkv_linear = nn.Linear(hidden_size, hidden_size * 3)\n",
    "        self.out = nn.Linear(hidden_size, hidden_size)\n",
    "\n",
    "    def forward(self, x):\n",
    "        batch_size, seq_length, hidden_size = x.size()\n",
    "\n",
    "        # Compute Q, K, and V in one shot\n",
    "        # We have one Wq matrix of size (hidden_size, hidden_size) instead of\n",
    "        # num_heads Q matrices of size (hidden_size // num_heads, hidden_size)\n",
    "        # It's equivalent, since the former implementation is segmenting the output layer of Q into num_head partitions\n",
    "        # (batch_size, seq_length, hidden_size * 3)\n",
    "        qkv = self.qkv_linear(x)\n",
    "\n",
    "        # Split the Q,K,V output into num_heads partitions, each with it's own mini Q,K,V vector\n",
    "        # (batch_size, seq_length, num_heads, head_dim * 3)\n",
    "        qkv = qkv.reshape(batch_size, seq_length, self.num_heads, 3 * self.head_dim)\n",
    "\n",
    "        # Promote the heads group so we focus on the smaller seq_length, qkv group\n",
    "        # (batch_size, num_heads, seq_length, head_dim * 3)\n",
    "        qkv = qkv.transpose(1, 2)\n",
    "\n",
    "        # Break apart the glued-together qkv tensors into separate tensors for each type\n",
    "        # (batch_size, num_heads, seq_length, head_dim)\n",
    "        queries, keys, values = qkv.chunk(3, dim=-1)\n",
    "\n",
    "        # Same as in single-head attention layer, compute self-attention scores.  Only now we're doing it in parallel across num_heads.\n",
    "        # So we windo up with (batch_size, num_heads) attention grids.\n",
    "        # (batch_size, num_heads, seq_length, seq_length)\n",
    "        scores = torch.matmul(queries, keys.transpose(2, 3))        \n",
    "        # (batch_size, num_heads, seq_length, seq_length)\n",
    "        scores = scores / (self.head_dim ** 0.5)\n",
    "        # (batch_size, num_heads, seq_length, seq_length)\n",
    "        attention = F.softmax(scores, dim=-1)\n",
    "\n",
    "        # same as single-head attention, except we're doing num_heads in parallel\n",
    "        # so for each head, we have a list of hidden states of size head_dim\n",
    "        # (batch_size, num_heads, seq_length, head_dim)\n",
    "        context = torch.matmul(attention, values)\n",
    "\n",
    "        # prepare to merge mini-hidden states but collecting all the head outputs per token\n",
    "        # Example token 1 -> heads(1, 2, 3) -> mini-states (1, 2, 3)\n",
    "        # (batch_size, seq_length, num_heads, head_dim)\n",
    "        context = context.transpose(1, 2)\n",
    "\n",
    "        # squish the (num_heads, head_dim) into a vector of num_heads * head_dim = hidden_size\n",
    "        # (batch_size, seq_length, hidden_size)\n",
    "        context = context.reshape(batch_size, seq_length, hidden_size)\n",
    "\n",
    "        # Transform the context.  Not sure how this helps but whatever.\n",
    "        # (batch_size, seq_length, hidden_size)\n",
    "        output = self.out(context)\n",
    "        return output\n",
    "        \n",
    "        \n",
    "        "
   ]
  },
  {
   "cell_type": "code",
   "execution_count": 150,
   "id": "b4bfe0b3-51a5-4aec-9e3d-2ebecc6fa383",
   "metadata": {},
   "outputs": [],
   "source": [
    "NUM_HEADS = 3\n",
    "HIDDEN_SIZE = 12\n",
    "VOCAB_SIZE = len(words2index)\n",
    "\n",
    "multi_att = MultiheadAttention(HIDDEN_SIZE, NUM_HEADS)\n",
    "embedding = nn.Embedding(VOCAB_SIZE, HIDDEN_SIZE)\n",
    "\n",
    "sentence = \"How are you doing ?\"\n",
    "input_tensor = convert2tensors(sentence)\n",
    "embedded = embedding(input_tensor)\n",
    "hidden_states = multi_att(embedded)"
   ]
  },
  {
   "cell_type": "code",
   "execution_count": 151,
   "id": "cb023410-b2c7-42f7-b453-5968a1f7a77e",
   "metadata": {},
   "outputs": [
    {
     "data": {
      "text/plain": [
       "torch.Size([1, 5, 12])"
      ]
     },
     "execution_count": 151,
     "metadata": {},
     "output_type": "execute_result"
    }
   ],
   "source": [
    "hidden_states.size()"
   ]
  },
  {
   "cell_type": "code",
   "execution_count": 152,
   "id": "daec8eb0-66c3-4779-9cba-9c143dbf7dc5",
   "metadata": {},
   "outputs": [],
   "source": [
    "multi_att = nn.MultiheadAttention(HIDDEN_SIZE, NUM_HEADS)"
   ]
  },
  {
   "cell_type": "code",
   "execution_count": 153,
   "id": "60b55b98-1a5b-45c9-9de5-d9db0d1b8a10",
   "metadata": {},
   "outputs": [
    {
     "data": {
      "text/plain": [
       "MultiheadAttention(\n",
       "  (out_proj): NonDynamicallyQuantizableLinear(in_features=12, out_features=12, bias=True)\n",
       ")"
      ]
     },
     "execution_count": 153,
     "metadata": {},
     "output_type": "execute_result"
    }
   ],
   "source": [
    "multi_att"
   ]
  },
  {
   "cell_type": "markdown",
   "id": "223cb624-5873-4459-bacf-c5c617834e44",
   "metadata": {},
   "source": [
    "# Positional Encoding"
   ]
  },
  {
   "cell_type": "code",
   "execution_count": 227,
   "id": "9f145235-1df3-41fa-a0f1-4e327426141f",
   "metadata": {},
   "outputs": [],
   "source": [
    "class PositionalEncoding(nn.Module):\n",
    "    def __init__(self, context_size, d_model):\n",
    "        super().__init__()\n",
    "\n",
    "        self.encoding = torch.zeros(context_size, d_model)\n",
    "        \n",
    "        pos = torch.arange(0, context_size).unsqueeze(dim=1)\n",
    "        dim = torch.arange(0, d_model, 2)\n",
    "        \n",
    "        self.encoding[:, 0::2] = torch.sin(pos / (10000 ** (2 * dim / d_model)))\n",
    "        self.encoding[:, 1::2] = torch.cos(pos / (10000 ** (2 * dim / d_model)))\n",
    "\n",
    "    def forward(self, x):\n",
    "        seq_len = x.size(1)\n",
    "        return self.encoding[:seq_len, :]"
   ]
  },
  {
   "cell_type": "markdown",
   "id": "df54414a-0ff9-419c-a5bc-afee526aca02",
   "metadata": {},
   "source": [
    "# Position-wise Feed-Forward Network"
   ]
  },
  {
   "cell_type": "code",
   "execution_count": 210,
   "id": "cfb48fc7-d67f-48e8-a9e2-b51f4aba18ad",
   "metadata": {},
   "outputs": [],
   "source": [
    "class PositionwiseFeedForward(nn.Module):\n",
    "    def __init__(self, d_model, d_ff):\n",
    "        super().__init__()\n",
    "\n",
    "        self.linear1 = nn.Linear(d_model, d_ff)\n",
    "        self.linear2 = nn.Linear(d_ff, d_model)\n",
    "        self.relu = nn.ReLU()\n",
    "\n",
    "    def forward(self, x):\n",
    "        x = self.linear1(x)\n",
    "        x = self.relu(x)\n",
    "        x = self.linear2(x)\n",
    "        return x"
   ]
  },
  {
   "cell_type": "markdown",
   "id": "d78aa118-d421-40c9-8666-b0bddb62de32",
   "metadata": {},
   "source": [
    "# Encoder"
   ]
  },
  {
   "cell_type": "code",
   "execution_count": 238,
   "id": "a135a037-896f-4760-bd0f-7d088446631b",
   "metadata": {},
   "outputs": [],
   "source": [
    "class EncoderBlock(nn.Module):\n",
    "    def __init__(self, d_model, num_heads, d_ff):\n",
    "        super().__init__()\n",
    "        self.self_attn = nn.MultiheadAttention(d_model, num_heads)\n",
    "        self.feed_forward = PositionwiseFeedForward(d_model, d_ff)\n",
    "        self.norm1 = nn.LayerNorm(d_model)\n",
    "        self.norm2 = nn.LayerNorm(d_model)\n",
    "\n",
    "    def forward(self, x):\n",
    "        hidden_states, _ = self.self_attn(query=x, key=x, value=x)\n",
    "        x = self.norm1(hidden_states + x)\n",
    "        ff_output = self.feed_forward(x)\n",
    "        x = self.norm2(ff_output + x)\n",
    "        return x\n",
    "        \n",
    "        "
   ]
  },
  {
   "cell_type": "code",
   "execution_count": 236,
   "id": "678547f6-3b28-4cc2-88c7-d6db45379384",
   "metadata": {},
   "outputs": [],
   "source": [
    "class Encoder(nn.Module):\n",
    "    def __init__(self, input_size, context_size, d_model, d_ff, num_heads, n_blocks):\n",
    "        super().__init__()\n",
    "\n",
    "        self.embedding = nn.Embedding(input_size, d_model)\n",
    "        self.pos_embedding = PositionalEncoding(context_size, d_model)\n",
    "        self.blocks = nn.ModuleList([EncoderBlock(d_model, num_heads, d_ff) for _ in range(n_blocks)])\n",
    "\n",
    "    def forward(self, x):\n",
    "        x = self.embedding(x) + self.pos_embedding(x)\n",
    "        for block in self.blocks:\n",
    "            x = block(x)\n",
    "        return x"
   ]
  },
  {
   "cell_type": "markdown",
   "id": "3366b4e8-36e3-4817-9aab-0a96d4f86521",
   "metadata": {},
   "source": [
    "# Decoder"
   ]
  },
  {
   "cell_type": "code",
   "execution_count": 217,
   "id": "d36f5f44-dc37-4307-9380-d6356f0ade15",
   "metadata": {},
   "outputs": [],
   "source": [
    "class DecoderBlock(nn.Module):\n",
    "    def __init__(self, d_model, num_heads, d_ff):\n",
    "        super().__init__()\n",
    "        self.self_attn = nn.MultiheadAttention(d_model, num_heads)\n",
    "        self.norm1 = nn.LayerNorm(d_model)\n",
    "        self.cross_attn = nn.MultiheadAttention(d_model, num_heads)\n",
    "        self.norm2 = nn.LayerNorm(d_model)\n",
    "        self.feed_forward = PositionwiseFeedForward(d_model, d_ff)\n",
    "        self.norm3 = nn.LayerNorm(d_model)\n",
    "\n",
    "\n",
    "    def forward(self, x, enc_output):\n",
    "        hidden_states, _ = self.self_attn(query=x, key=x, value=x)\n",
    "        x = self.norm1(hidden_states + x)\n",
    "        hidden_states, _ = self.cross_attn(query=x, key=enc_output, value=enc_output)\n",
    "        x = self.norm2(hidden_states + x)\n",
    "        ff_output = self.feed_forward(x)\n",
    "        x = self.norm3(ff_output + x)\n",
    "        return x"
   ]
  },
  {
   "cell_type": "code",
   "execution_count": 229,
   "id": "9f25ec45-e3fc-4e56-8660-dadff02bcd1c",
   "metadata": {},
   "outputs": [],
   "source": [
    "class Decoder(nn.Module):\n",
    "    def __init__(self, output_size, context_size, d_model, d_ff, num_heads, num_blocks):\n",
    "        super().__init__()\n",
    "\n",
    "        self.embedding = nn.Embedding(output_size, d_model)\n",
    "        self.pos_embedding = PositionalEncoding(context_size, d_model)\n",
    "        self.blocks = nn.ModuleList([DecoderBlock(d_model, num_heads, d_ff) for _ in range(num_blocks)])\n",
    "        self.out = nn.Linear(d_model, output_size)\n",
    "\n",
    "    def forward(self, x, enc_output):\n",
    "        x = self.embedding(x) + self.pos_embedding(x)\n",
    "        \n",
    "        for block in self.blocks:\n",
    "            x = block(x, enc_output)\n",
    "\n",
    "        output = self.out(x)\n",
    "        return output            "
   ]
  },
  {
   "cell_type": "code",
   "execution_count": 224,
   "id": "5d251ef3-c459-4078-a276-548f7d0f6a4e",
   "metadata": {},
   "outputs": [],
   "source": [
    "class Transformer(nn.Module):\n",
    "    def __init__(self, vocab_size, context_size, d_model, d_ff, num_heads, n_blocks):\n",
    "        super().__init__()\n",
    "        self.encoder = Encoder(vocab_size, context_size, d_model, d_ff, num_heads, n_blocks)\n",
    "        self.decoder = Decoder(vocab_size, context_size, d_model, d_ff, num_heads, n_blocks)\n",
    "\n",
    "    def forward(self, input_encoder, input_decoder):\n",
    "        enc_output = self.encoder(input_encoder)\n",
    "        output = self.decoder(input_decoder, enc_output)\n",
    "        return output"
   ]
  },
  {
   "cell_type": "markdown",
   "id": "795d740d-f05f-404a-9f9a-3dcb838766d2",
   "metadata": {},
   "source": [
    "# Testing"
   ]
  },
  {
   "cell_type": "code",
   "execution_count": 233,
   "id": "e018da84-c1f2-445a-9d54-7fc0b40dffa5",
   "metadata": {},
   "outputs": [],
   "source": [
    "SOS_token = 0\n",
    "EOS_token = 1\n",
    "PAD_token = 2\n",
    "\n",
    "index2words = {\n",
    "    SOS_token: 'SOS',\n",
    "    EOS_token: 'EOS',\n",
    "    PAD_token: 'PAD'\n",
    "}\n",
    "\n",
    "words = \"How are you doing ? I am good and you ?\"\n",
    "words_list = set(words.lower().split(' '))\n",
    "for word in words_list:\n",
    "    index2words[len(index2words)] = word\n",
    "\n",
    "words2index = {w: i for i, w in index2words.items()}\n",
    "\n",
    "def convert2tensors(sentence, max_len):\n",
    "    words_list = sentence.lower().split(' ')\n",
    "    padding = ['PAD'] * (max_len - len(words_list))\n",
    "    words_list.extend(padding)\n",
    "    indexes = [words2index[word] for word in words_list]\n",
    "    return torch.tensor(indexes, dtype=torch.long).view(1, -1)\n"
   ]
  },
  {
   "cell_type": "code",
   "execution_count": 239,
   "id": "d0222f44-ccb4-499f-91b2-fd8a98ed32f9",
   "metadata": {},
   "outputs": [],
   "source": [
    "D_MODEL = 10\n",
    "VOCAB_SIZE = len(words2index)\n",
    "N_BLOCKS = 10\n",
    "D_FF = 20\n",
    "CONTEXT_SIZE = 100\n",
    "NUM_HEADS = 2\n",
    "\n",
    "transformer = Transformer(\n",
    "    vocab_size=VOCAB_SIZE,\n",
    "    context_size=CONTEXT_SIZE,\n",
    "    d_model=D_MODEL,\n",
    "    d_ff=D_FF,\n",
    "    num_heads=NUM_HEADS,\n",
    "    n_blocks=N_BLOCKS\n",
    ")\n",
    "\n",
    "input_sentence = \"How are you doing ?\"\n",
    "output_sentence = \"I am good and\"\n",
    "\n",
    "input_encoder = convert2tensors(input_sentence, CONTEXT_SIZE)\n",
    "input_decoder = convert2tensors(output_sentence, CONTEXT_SIZE)\n",
    "\n",
    "output = transformer(input_encoder, input_decoder)"
   ]
  },
  {
   "cell_type": "code",
   "execution_count": 240,
   "id": "3193d707-49f3-4b85-b717-08a9463d5f79",
   "metadata": {},
   "outputs": [
    {
     "data": {
      "text/plain": [
       "torch.Size([1, 100, 12])"
      ]
     },
     "execution_count": 240,
     "metadata": {},
     "output_type": "execute_result"
    }
   ],
   "source": [
    "output.size()"
   ]
  },
  {
   "cell_type": "code",
   "execution_count": 251,
   "id": "55318a13-b515-4f47-8dc9-2cdb3b05da3c",
   "metadata": {},
   "outputs": [
    {
     "data": {
      "text/plain": [
       "'and'"
      ]
     },
     "execution_count": 251,
     "metadata": {},
     "output_type": "execute_result"
    }
   ],
   "source": [
    "_, indexes = output.squeeze().topk(1)\n",
    "# 3 is index of next predicted word\n",
    "index2words[indexes[3].item()]"
   ]
  },
  {
   "cell_type": "code",
   "execution_count": null,
   "id": "5ff88f1a-b00e-4dc1-bdf2-d2f188e9dbf6",
   "metadata": {},
   "outputs": [],
   "source": []
  }
 ],
 "metadata": {
  "kernelspec": {
   "display_name": "Python 3 (ipykernel)",
   "language": "python",
   "name": "python3"
  },
  "language_info": {
   "codemirror_mode": {
    "name": "ipython",
    "version": 3
   },
   "file_extension": ".py",
   "mimetype": "text/x-python",
   "name": "python",
   "nbconvert_exporter": "python",
   "pygments_lexer": "ipython3",
   "version": "3.12.11"
  }
 },
 "nbformat": 4,
 "nbformat_minor": 5
}
