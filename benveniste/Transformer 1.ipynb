{
 "cells": [
  {
   "cell_type": "code",
   "execution_count": 3,
   "id": "1f594c55-54dc-4087-81d7-f2f1531e2da6",
   "metadata": {},
   "outputs": [],
   "source": [
    "import torch\n",
    "import torch.nn as nn\n",
    "import torch.nn.functional as F"
   ]
  },
  {
   "cell_type": "markdown",
   "id": "1dc3e66d-dc6a-4fdf-97be-a1ce09020c19",
   "metadata": {},
   "source": [
    "# Attention"
   ]
  },
  {
   "cell_type": "code",
   "execution_count": 97,
   "id": "22decf90-df06-4c72-81c7-da65dab48d7f",
   "metadata": {},
   "outputs": [],
   "source": [
    "class Attention(nn.Module):\n",
    "    def __init__(self, d_in, d_out):\n",
    "        \"\"\"\n",
    "        Parameters:\n",
    "        - d_in (int): size of input - the hidden size aka d_model\n",
    "        - d_out (int): size of output - the length of the k and q vectors\n",
    "        \"\"\"\n",
    "        super().__init__()\n",
    "        self.d_in = d_in\n",
    "        self.d_out = d_out\n",
    "        self.Q = nn.Linear(d_in, d_out)\n",
    "        self.K = nn.Linear(d_in, d_out)\n",
    "        self.V = nn.Linear(d_in, d_out)\n",
    "\n",
    "    def forward(self, x):\n",
    "        queries = self.Q(x)\n",
    "        keys = self.K(x)\n",
    "        values = self.V(x)\n",
    "        scores = torch.bmm(queries, keys.transpose(1, 2))\n",
    "        scores = scores / (self.d_out ** 0.5)\n",
    "        attention = F.softmax(scores, dim=2)\n",
    "        hidden_states = torch.bmm(attention, values)\n",
    "        return hidden_states        "
   ]
  },
  {
   "cell_type": "code",
   "execution_count": 106,
   "id": "537628ec-1b6d-4d7c-9b71-abbd6239c4f5",
   "metadata": {},
   "outputs": [],
   "source": [
    "SOS_token = 0\n",
    "EOS_token = 0\n",
    "\n",
    "index2words = {\n",
    "    SOS_token: 'SOS',\n",
    "    EOS_token: 'EOS',\n",
    "}\n",
    "\n",
    "words = \"How are you doing ? I am good and you ?\"\n",
    "words_list = set(words.lower().split())\n",
    "for word in words_list:\n",
    "    index2words[len(index2words)] = word\n",
    "\n",
    "words2index = {w: i for i, w in index2words.items()}"
   ]
  },
  {
   "cell_type": "code",
   "execution_count": 107,
   "id": "996a348f-50c0-43f5-b332-2027f8736db5",
   "metadata": {},
   "outputs": [],
   "source": [
    "def convert2tensors(sentence):\n",
    "    words_list = sentence.lower().split(' ')\n",
    "    indexes = [words2index[word] for word in words_list]\n",
    "    return torch.tensor(indexes, dtype=torch.long).view(1, -1)"
   ]
  },
  {
   "cell_type": "code",
   "execution_count": 110,
   "id": "f39c41f2-3565-4ad9-8fc6-67eb08983238",
   "metadata": {},
   "outputs": [
    {
     "data": {
      "text/plain": [
       "tensor([[3, 6, 1, 7, 2, 8, 4, 9, 5, 1, 2]])"
      ]
     },
     "execution_count": 110,
     "metadata": {},
     "output_type": "execute_result"
    }
   ],
   "source": [
    "sentence = \"How are you doing ? I am good and you ?\"\n",
    "convert2tensors(sentence)"
   ]
  },
  {
   "cell_type": "code",
   "execution_count": 111,
   "id": "9bd8faea-64e0-4564-acc8-ceb672f615b0",
   "metadata": {},
   "outputs": [],
   "source": [
    "HIDDEN_SIZE = 10\n",
    "VOCAB_SIZE = len(words2index)\n",
    "\n",
    "embedding = nn.Embedding(VOCAB_SIZE, HIDDEN_SIZE)\n",
    "attention = Attention(HIDDEN_SIZE, HIDDEN_SIZE)\n",
    "\n",
    "sentence = \"How are you doing ?\"\n",
    "input_tensor = convert2tensors(sentence)\n",
    "embedded = embedding(input_tensor)"
   ]
  },
  {
   "cell_type": "code",
   "execution_count": 120,
   "id": "00824392-ae76-41c2-a24e-84cd253b3120",
   "metadata": {},
   "outputs": [],
   "source": [
    "hidden_states = attention(embedded)"
   ]
  },
  {
   "cell_type": "code",
   "execution_count": 122,
   "id": "c334a59f-3c80-47be-b138-8d4e41edc956",
   "metadata": {},
   "outputs": [
    {
     "data": {
      "text/plain": [
       "torch.Size([1, 5, 10])"
      ]
     },
     "execution_count": 122,
     "metadata": {},
     "output_type": "execute_result"
    }
   ],
   "source": [
    "hidden_states.shape"
   ]
  },
  {
   "cell_type": "code",
   "execution_count": 123,
   "id": "70561fd3-95aa-458a-866f-0f7a4e9acaa6",
   "metadata": {},
   "outputs": [
    {
     "data": {
      "text/plain": [
       "tensor([[[-0.1097,  0.1819, -0.2460,  0.1663,  0.2060, -0.2877, -0.7588,\n",
       "          -0.1137, -0.0173,  0.3440],\n",
       "         [-0.2254, -0.0467,  0.2279,  0.0389,  0.0265, -0.2272, -0.5867,\n",
       "           0.0130, -0.1764,  0.1194],\n",
       "         [-0.2163, -0.1267,  0.3212,  0.1042, -0.0701, -0.3189, -0.6346,\n",
       "           0.0520, -0.1989,  0.1196],\n",
       "         [-0.2384, -0.0666,  0.2611,  0.0185,  0.0106, -0.1989, -0.5209,\n",
       "           0.0261, -0.1854,  0.0587],\n",
       "         [-0.1606,  0.1044, -0.1331,  0.1148,  0.1526, -0.2480, -0.6132,\n",
       "          -0.0816, -0.0318,  0.1648]]], grad_fn=<BmmBackward0>)"
      ]
     },
     "execution_count": 123,
     "metadata": {},
     "output_type": "execute_result"
    }
   ],
   "source": [
    "hidden_states"
   ]
  },
  {
   "cell_type": "code",
   "execution_count": null,
   "id": "d4e38b64-2210-4406-837a-0966f06660f4",
   "metadata": {},
   "outputs": [],
   "source": []
  }
 ],
 "metadata": {
  "kernelspec": {
   "display_name": "Python 3 (ipykernel)",
   "language": "python",
   "name": "python3"
  },
  "language_info": {
   "codemirror_mode": {
    "name": "ipython",
    "version": 3
   },
   "file_extension": ".py",
   "mimetype": "text/x-python",
   "name": "python",
   "nbconvert_exporter": "python",
   "pygments_lexer": "ipython3",
   "version": "3.12.11"
  }
 },
 "nbformat": 4,
 "nbformat_minor": 5
}
