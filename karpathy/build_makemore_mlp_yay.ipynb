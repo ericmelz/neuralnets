{
 "cells": [
  {
   "cell_type": "code",
   "execution_count": 1,
   "id": "26facc36-5f9e-42e5-9587-e70d5ebb89ea",
   "metadata": {},
   "outputs": [],
   "source": [
    "import torch\n",
    "import torch.nn.functional as F\n",
    "import matplotlib.pyplot as plt\n",
    "%matplotlib inline"
   ]
  },
  {
   "cell_type": "code",
   "execution_count": 2,
   "id": "625da423-b1ab-451c-a523-fa3e0bfc2e71",
   "metadata": {},
   "outputs": [
    {
     "data": {
      "text/plain": [
       "['emma', 'olivia', 'ava', 'isabella', 'sophia', 'charlotte', 'mia', 'amelia']"
      ]
     },
     "execution_count": 2,
     "metadata": {},
     "output_type": "execute_result"
    }
   ],
   "source": [
    "words = open('names.txt', 'r').read().splitlines()\n",
    "words[:8]"
   ]
  },
  {
   "cell_type": "code",
   "execution_count": 3,
   "id": "6f4d71a2-0756-4b60-8628-b4d790780eb3",
   "metadata": {},
   "outputs": [
    {
     "data": {
      "text/plain": [
       "32033"
      ]
     },
     "execution_count": 3,
     "metadata": {},
     "output_type": "execute_result"
    }
   ],
   "source": [
    "len(words)"
   ]
  },
  {
   "cell_type": "code",
   "execution_count": 4,
   "id": "bf74e79b-3f65-4a46-82b8-b56d0a656247",
   "metadata": {},
   "outputs": [
    {
     "name": "stdout",
     "output_type": "stream",
     "text": [
      "{1: 'a', 2: 'b', 3: 'c', 4: 'd', 5: 'e', 6: 'f', 7: 'g', 8: 'h', 9: 'i', 10: 'j', 11: 'k', 12: 'l', 13: 'm', 14: 'n', 15: 'o', 16: 'p', 17: 'q', 18: 'r', 19: 's', 20: 't', 21: 'u', 22: 'v', 23: 'w', 24: 'x', 25: 'y', 26: 'z', 0: '.'}\n"
     ]
    }
   ],
   "source": [
    "# build the vocabulary of characters and mappings to/from integers\n",
    "chars = sorted(list(set(''.join(words))))\n",
    "stoi = {s:i+1 for i,s in enumerate(chars)}\n",
    "stoi['.'] = 0\n",
    "itos = {i:s for s,i in stoi.items()}\n",
    "print(itos)"
   ]
  },
  {
   "cell_type": "code",
   "execution_count": 74,
   "id": "92c427d3-458d-40d1-bede-772e9b884db8",
   "metadata": {},
   "outputs": [],
   "source": [
    "block_size = 3 # context length: how many characters do we take to predict the next one?\n",
    "X, Y = [], []\n",
    "for w in words:\n",
    "    # print(w)\n",
    "    context = [0] * block_size\n",
    "    for ch in w + '.':\n",
    "        ix = stoi[ch]\n",
    "        X.append(context)\n",
    "        Y.append(ix)\n",
    "        # print(''.join(itos[i] for i in context), '--->', itos[ix])\n",
    "        context = context[1:] + [ix]\n",
    "\n",
    "X = torch.tensor(X)\n",
    "Y = torch.tensor(Y)"
   ]
  },
  {
   "cell_type": "code",
   "execution_count": 75,
   "id": "609b8dab-feb8-45df-a265-b3e390e66bc9",
   "metadata": {},
   "outputs": [
    {
     "data": {
      "text/plain": [
       "(torch.Size([228146, 3]), torch.int64, torch.Size([228146]), torch.int64)"
      ]
     },
     "execution_count": 75,
     "metadata": {},
     "output_type": "execute_result"
    }
   ],
   "source": [
    "X.shape, X.dtype, Y.shape, Y.dtype"
   ]
  },
  {
   "cell_type": "code",
   "execution_count": null,
   "id": "272571cc-27ad-4582-b18f-0769700dae3a",
   "metadata": {},
   "outputs": [],
   "source": [
    "# training split, dev/validation split, test split\n",
    "# 80%, 10%, 10%"
   ]
  },
  {
   "cell_type": "code",
   "execution_count": 162,
   "id": "a8f2e96b-9c6f-460b-88ba-ee69ba549ee1",
   "metadata": {},
   "outputs": [
    {
     "name": "stdout",
     "output_type": "stream",
     "text": [
      "torch.Size([182437, 3]) torch.Size([182437])\n",
      "torch.Size([22781, 3]) torch.Size([22781])\n",
      "torch.Size([22928, 3]) torch.Size([22928])\n"
     ]
    }
   ],
   "source": [
    "# build the dataset\n",
    "\n",
    "def build_dataset(words):\n",
    "    block_size = 3 # context length: how many characters do we take to predict the next one?\n",
    "    X, Y = [], []\n",
    "\n",
    "    for w in words:\n",
    "        # print(w)\n",
    "        context = [0] * block_size\n",
    "        for ch in w + '.':\n",
    "            ix = stoi[ch]\n",
    "            X.append(context)\n",
    "            Y.append(ix)\n",
    "            # print(''.join(itos[i] for i in context), '--->', itos[ix])\n",
    "            context = context[1:] + [ix]\n",
    "\n",
    "    X = torch.tensor(X)\n",
    "    Y = torch.tensor(Y)\n",
    "    print(X.shape, Y.shape)\n",
    "    return X, Y\n",
    "\n",
    "import random\n",
    "random.seed(42)\n",
    "random.shuffle(words)\n",
    "n1 = int(0.8*len(words))\n",
    "n2 = int(0.9*len(words))\n",
    "\n",
    "Xtr, Ytr = build_dataset(words[:n1])\n",
    "Xdev, Ydev = build_dataset(words[n1:n2])\n",
    "Xte, Yte = build_dataset(words[n2:])"
   ]
  },
  {
   "cell_type": "code",
   "execution_count": 6,
   "id": "3bacf672-9ecd-46d1-bf5c-0534806c371c",
   "metadata": {},
   "outputs": [],
   "source": [
    "C = torch.randn((27, 2)) # Embeddings"
   ]
  },
  {
   "cell_type": "code",
   "execution_count": 10,
   "id": "6726f9ed-28a1-4a3b-b083-97b9d0ab7b76",
   "metadata": {},
   "outputs": [
    {
     "data": {
      "text/plain": [
       "tensor([0.6356, 0.7690])"
      ]
     },
     "execution_count": 10,
     "metadata": {},
     "output_type": "execute_result"
    }
   ],
   "source": [
    "F.one_hot(torch.tensor(5), num_classes=27).float() @ C"
   ]
  },
  {
   "cell_type": "code",
   "execution_count": 11,
   "id": "e0e074bc-9950-4b0d-a608-7028ad87e9d7",
   "metadata": {},
   "outputs": [
    {
     "data": {
      "text/plain": [
       "tensor([[[ 1.0875, -1.7821],\n",
       "         [ 1.0875, -1.7821],\n",
       "         [ 1.0875, -1.7821]],\n",
       "\n",
       "        [[ 1.0875, -1.7821],\n",
       "         [ 1.0875, -1.7821],\n",
       "         [ 0.6356,  0.7690]],\n",
       "\n",
       "        [[ 1.0875, -1.7821],\n",
       "         [ 0.6356,  0.7690],\n",
       "         [ 0.1822, -0.1956]],\n",
       "\n",
       "        [[ 0.6356,  0.7690],\n",
       "         [ 0.1822, -0.1956],\n",
       "         [ 0.1822, -0.1956]],\n",
       "\n",
       "        [[ 0.1822, -0.1956],\n",
       "         [ 0.1822, -0.1956],\n",
       "         [ 0.6498, -0.6228]],\n",
       "\n",
       "        [[ 1.0875, -1.7821],\n",
       "         [ 1.0875, -1.7821],\n",
       "         [ 1.0875, -1.7821]],\n",
       "\n",
       "        [[ 1.0875, -1.7821],\n",
       "         [ 1.0875, -1.7821],\n",
       "         [ 1.0575,  0.0205]],\n",
       "\n",
       "        [[ 1.0875, -1.7821],\n",
       "         [ 1.0575,  0.0205],\n",
       "         [ 0.1438, -1.3259]],\n",
       "\n",
       "        [[ 1.0575,  0.0205],\n",
       "         [ 0.1438, -1.3259],\n",
       "         [-0.2087,  0.0096]],\n",
       "\n",
       "        [[ 0.1438, -1.3259],\n",
       "         [-0.2087,  0.0096],\n",
       "         [ 0.8089,  0.4664]],\n",
       "\n",
       "        [[-0.2087,  0.0096],\n",
       "         [ 0.8089,  0.4664],\n",
       "         [-0.2087,  0.0096]],\n",
       "\n",
       "        [[ 0.8089,  0.4664],\n",
       "         [-0.2087,  0.0096],\n",
       "         [ 0.6498, -0.6228]],\n",
       "\n",
       "        [[ 1.0875, -1.7821],\n",
       "         [ 1.0875, -1.7821],\n",
       "         [ 1.0875, -1.7821]],\n",
       "\n",
       "        [[ 1.0875, -1.7821],\n",
       "         [ 1.0875, -1.7821],\n",
       "         [ 0.6498, -0.6228]],\n",
       "\n",
       "        [[ 1.0875, -1.7821],\n",
       "         [ 0.6498, -0.6228],\n",
       "         [ 0.8089,  0.4664]],\n",
       "\n",
       "        [[ 0.6498, -0.6228],\n",
       "         [ 0.8089,  0.4664],\n",
       "         [ 0.6498, -0.6228]],\n",
       "\n",
       "        [[ 1.0875, -1.7821],\n",
       "         [ 1.0875, -1.7821],\n",
       "         [ 1.0875, -1.7821]],\n",
       "\n",
       "        [[ 1.0875, -1.7821],\n",
       "         [ 1.0875, -1.7821],\n",
       "         [-0.2087,  0.0096]],\n",
       "\n",
       "        [[ 1.0875, -1.7821],\n",
       "         [-0.2087,  0.0096],\n",
       "         [ 1.3129, -2.2864]],\n",
       "\n",
       "        [[-0.2087,  0.0096],\n",
       "         [ 1.3129, -2.2864],\n",
       "         [ 0.6498, -0.6228]],\n",
       "\n",
       "        [[ 1.3129, -2.2864],\n",
       "         [ 0.6498, -0.6228],\n",
       "         [ 1.9428, -0.0665]],\n",
       "\n",
       "        [[ 0.6498, -0.6228],\n",
       "         [ 1.9428, -0.0665],\n",
       "         [ 0.6356,  0.7690]],\n",
       "\n",
       "        [[ 1.9428, -0.0665],\n",
       "         [ 0.6356,  0.7690],\n",
       "         [ 0.1438, -1.3259]],\n",
       "\n",
       "        [[ 0.6356,  0.7690],\n",
       "         [ 0.1438, -1.3259],\n",
       "         [ 0.1438, -1.3259]],\n",
       "\n",
       "        [[ 0.1438, -1.3259],\n",
       "         [ 0.1438, -1.3259],\n",
       "         [ 0.6498, -0.6228]],\n",
       "\n",
       "        [[ 1.0875, -1.7821],\n",
       "         [ 1.0875, -1.7821],\n",
       "         [ 1.0875, -1.7821]],\n",
       "\n",
       "        [[ 1.0875, -1.7821],\n",
       "         [ 1.0875, -1.7821],\n",
       "         [ 1.3129, -2.2864]],\n",
       "\n",
       "        [[ 1.0875, -1.7821],\n",
       "         [ 1.3129, -2.2864],\n",
       "         [ 1.0575,  0.0205]],\n",
       "\n",
       "        [[ 1.3129, -2.2864],\n",
       "         [ 1.0575,  0.0205],\n",
       "         [-0.3329, -0.9840]],\n",
       "\n",
       "        [[ 1.0575,  0.0205],\n",
       "         [-0.3329, -0.9840],\n",
       "         [-0.6359,  1.3525]],\n",
       "\n",
       "        [[-0.3329, -0.9840],\n",
       "         [-0.6359,  1.3525],\n",
       "         [-0.2087,  0.0096]],\n",
       "\n",
       "        [[-0.6359,  1.3525],\n",
       "         [-0.2087,  0.0096],\n",
       "         [ 0.6498, -0.6228]]])"
      ]
     },
     "execution_count": 11,
     "metadata": {},
     "output_type": "execute_result"
    }
   ],
   "source": [
    "C[X]"
   ]
  },
  {
   "cell_type": "code",
   "execution_count": 13,
   "id": "a84b9a18-c726-46d1-9414-91e6556e88c8",
   "metadata": {},
   "outputs": [
    {
     "data": {
      "text/plain": [
       "torch.Size([32, 3, 2])"
      ]
     },
     "execution_count": 13,
     "metadata": {},
     "output_type": "execute_result"
    }
   ],
   "source": [
    "emb = C[X]\n",
    "emb.shape"
   ]
  },
  {
   "cell_type": "code",
   "execution_count": 14,
   "id": "4b50700c-1fdf-477d-abae-c80bbbb76f12",
   "metadata": {},
   "outputs": [],
   "source": [
    "W1 = torch.randn((6,100))\n",
    "b1 = torch.randn(100)\n"
   ]
  },
  {
   "cell_type": "code",
   "execution_count": 15,
   "id": "8d4a51d3-6a28-4eaa-a031-57aa55e51d12",
   "metadata": {},
   "outputs": [
    {
     "data": {
      "text/plain": [
       "tensor([[ 1.0875, -1.7821],\n",
       "        [ 1.0875, -1.7821],\n",
       "        [ 1.0875, -1.7821],\n",
       "        [ 0.6356,  0.7690],\n",
       "        [ 0.1822, -0.1956],\n",
       "        [ 1.0875, -1.7821],\n",
       "        [ 1.0875, -1.7821],\n",
       "        [ 1.0875, -1.7821],\n",
       "        [ 1.0575,  0.0205],\n",
       "        [ 0.1438, -1.3259],\n",
       "        [-0.2087,  0.0096],\n",
       "        [ 0.8089,  0.4664],\n",
       "        [ 1.0875, -1.7821],\n",
       "        [ 1.0875, -1.7821],\n",
       "        [ 1.0875, -1.7821],\n",
       "        [ 0.6498, -0.6228],\n",
       "        [ 1.0875, -1.7821],\n",
       "        [ 1.0875, -1.7821],\n",
       "        [ 1.0875, -1.7821],\n",
       "        [-0.2087,  0.0096],\n",
       "        [ 1.3129, -2.2864],\n",
       "        [ 0.6498, -0.6228],\n",
       "        [ 1.9428, -0.0665],\n",
       "        [ 0.6356,  0.7690],\n",
       "        [ 0.1438, -1.3259],\n",
       "        [ 1.0875, -1.7821],\n",
       "        [ 1.0875, -1.7821],\n",
       "        [ 1.0875, -1.7821],\n",
       "        [ 1.3129, -2.2864],\n",
       "        [ 1.0575,  0.0205],\n",
       "        [-0.3329, -0.9840],\n",
       "        [-0.6359,  1.3525]])"
      ]
     },
     "execution_count": 15,
     "metadata": {},
     "output_type": "execute_result"
    }
   ],
   "source": [
    "emb[:, 0, :]"
   ]
  },
  {
   "cell_type": "code",
   "execution_count": 16,
   "id": "276e9ce3-aecb-4ef2-bdd1-24eb75dd8fe6",
   "metadata": {},
   "outputs": [
    {
     "data": {
      "text/plain": [
       "torch.Size([32, 2])"
      ]
     },
     "execution_count": 16,
     "metadata": {},
     "output_type": "execute_result"
    }
   ],
   "source": [
    "emb[:, 0, :].shape"
   ]
  },
  {
   "cell_type": "code",
   "execution_count": 21,
   "id": "bd8d7f23-e4db-4d21-8665-5e05be1361b4",
   "metadata": {},
   "outputs": [
    {
     "data": {
      "text/plain": [
       "tensor([[ 1.0875, -1.7821,  1.0875, -1.7821,  1.0875, -1.7821],\n",
       "        [ 1.0875, -1.7821,  1.0875, -1.7821,  0.6356,  0.7690],\n",
       "        [ 1.0875, -1.7821,  0.6356,  0.7690,  0.1822, -0.1956],\n",
       "        [ 0.6356,  0.7690,  0.1822, -0.1956,  0.1822, -0.1956],\n",
       "        [ 0.1822, -0.1956,  0.1822, -0.1956,  0.6498, -0.6228],\n",
       "        [ 1.0875, -1.7821,  1.0875, -1.7821,  1.0875, -1.7821],\n",
       "        [ 1.0875, -1.7821,  1.0875, -1.7821,  1.0575,  0.0205],\n",
       "        [ 1.0875, -1.7821,  1.0575,  0.0205,  0.1438, -1.3259],\n",
       "        [ 1.0575,  0.0205,  0.1438, -1.3259, -0.2087,  0.0096],\n",
       "        [ 0.1438, -1.3259, -0.2087,  0.0096,  0.8089,  0.4664],\n",
       "        [-0.2087,  0.0096,  0.8089,  0.4664, -0.2087,  0.0096],\n",
       "        [ 0.8089,  0.4664, -0.2087,  0.0096,  0.6498, -0.6228],\n",
       "        [ 1.0875, -1.7821,  1.0875, -1.7821,  1.0875, -1.7821],\n",
       "        [ 1.0875, -1.7821,  1.0875, -1.7821,  0.6498, -0.6228],\n",
       "        [ 1.0875, -1.7821,  0.6498, -0.6228,  0.8089,  0.4664],\n",
       "        [ 0.6498, -0.6228,  0.8089,  0.4664,  0.6498, -0.6228],\n",
       "        [ 1.0875, -1.7821,  1.0875, -1.7821,  1.0875, -1.7821],\n",
       "        [ 1.0875, -1.7821,  1.0875, -1.7821, -0.2087,  0.0096],\n",
       "        [ 1.0875, -1.7821, -0.2087,  0.0096,  1.3129, -2.2864],\n",
       "        [-0.2087,  0.0096,  1.3129, -2.2864,  0.6498, -0.6228],\n",
       "        [ 1.3129, -2.2864,  0.6498, -0.6228,  1.9428, -0.0665],\n",
       "        [ 0.6498, -0.6228,  1.9428, -0.0665,  0.6356,  0.7690],\n",
       "        [ 1.9428, -0.0665,  0.6356,  0.7690,  0.1438, -1.3259],\n",
       "        [ 0.6356,  0.7690,  0.1438, -1.3259,  0.1438, -1.3259],\n",
       "        [ 0.1438, -1.3259,  0.1438, -1.3259,  0.6498, -0.6228],\n",
       "        [ 1.0875, -1.7821,  1.0875, -1.7821,  1.0875, -1.7821],\n",
       "        [ 1.0875, -1.7821,  1.0875, -1.7821,  1.3129, -2.2864],\n",
       "        [ 1.0875, -1.7821,  1.3129, -2.2864,  1.0575,  0.0205],\n",
       "        [ 1.3129, -2.2864,  1.0575,  0.0205, -0.3329, -0.9840],\n",
       "        [ 1.0575,  0.0205, -0.3329, -0.9840, -0.6359,  1.3525],\n",
       "        [-0.3329, -0.9840, -0.6359,  1.3525, -0.2087,  0.0096],\n",
       "        [-0.6359,  1.3525, -0.2087,  0.0096,  0.6498, -0.6228]])"
      ]
     },
     "execution_count": 21,
     "metadata": {},
     "output_type": "execute_result"
    }
   ],
   "source": [
    "torch.cat([emb[:, 0, :], emb[:, 1, :], emb[:, 2, :]], dim=1)"
   ]
  },
  {
   "cell_type": "code",
   "execution_count": 22,
   "id": "b776fa35-f441-4ab1-905d-f894e6ea06b4",
   "metadata": {},
   "outputs": [
    {
     "data": {
      "text/plain": [
       "torch.Size([32, 6])"
      ]
     },
     "execution_count": 22,
     "metadata": {},
     "output_type": "execute_result"
    }
   ],
   "source": [
    "torch.cat([emb[:, 0, :], emb[:, 1, :], emb[:, 2, :]], dim=1).shape"
   ]
  },
  {
   "cell_type": "code",
   "execution_count": 25,
   "id": "cc9087f7-5bcc-4eba-b8c0-b6f04fd07e0e",
   "metadata": {},
   "outputs": [
    {
     "data": {
      "text/plain": [
       "tensor([[ 1.0875, -1.7821,  1.0875, -1.7821,  1.0875, -1.7821],\n",
       "        [ 1.0875, -1.7821,  1.0875, -1.7821,  0.6356,  0.7690],\n",
       "        [ 1.0875, -1.7821,  0.6356,  0.7690,  0.1822, -0.1956],\n",
       "        [ 0.6356,  0.7690,  0.1822, -0.1956,  0.1822, -0.1956],\n",
       "        [ 0.1822, -0.1956,  0.1822, -0.1956,  0.6498, -0.6228],\n",
       "        [ 1.0875, -1.7821,  1.0875, -1.7821,  1.0875, -1.7821],\n",
       "        [ 1.0875, -1.7821,  1.0875, -1.7821,  1.0575,  0.0205],\n",
       "        [ 1.0875, -1.7821,  1.0575,  0.0205,  0.1438, -1.3259],\n",
       "        [ 1.0575,  0.0205,  0.1438, -1.3259, -0.2087,  0.0096],\n",
       "        [ 0.1438, -1.3259, -0.2087,  0.0096,  0.8089,  0.4664],\n",
       "        [-0.2087,  0.0096,  0.8089,  0.4664, -0.2087,  0.0096],\n",
       "        [ 0.8089,  0.4664, -0.2087,  0.0096,  0.6498, -0.6228],\n",
       "        [ 1.0875, -1.7821,  1.0875, -1.7821,  1.0875, -1.7821],\n",
       "        [ 1.0875, -1.7821,  1.0875, -1.7821,  0.6498, -0.6228],\n",
       "        [ 1.0875, -1.7821,  0.6498, -0.6228,  0.8089,  0.4664],\n",
       "        [ 0.6498, -0.6228,  0.8089,  0.4664,  0.6498, -0.6228],\n",
       "        [ 1.0875, -1.7821,  1.0875, -1.7821,  1.0875, -1.7821],\n",
       "        [ 1.0875, -1.7821,  1.0875, -1.7821, -0.2087,  0.0096],\n",
       "        [ 1.0875, -1.7821, -0.2087,  0.0096,  1.3129, -2.2864],\n",
       "        [-0.2087,  0.0096,  1.3129, -2.2864,  0.6498, -0.6228],\n",
       "        [ 1.3129, -2.2864,  0.6498, -0.6228,  1.9428, -0.0665],\n",
       "        [ 0.6498, -0.6228,  1.9428, -0.0665,  0.6356,  0.7690],\n",
       "        [ 1.9428, -0.0665,  0.6356,  0.7690,  0.1438, -1.3259],\n",
       "        [ 0.6356,  0.7690,  0.1438, -1.3259,  0.1438, -1.3259],\n",
       "        [ 0.1438, -1.3259,  0.1438, -1.3259,  0.6498, -0.6228],\n",
       "        [ 1.0875, -1.7821,  1.0875, -1.7821,  1.0875, -1.7821],\n",
       "        [ 1.0875, -1.7821,  1.0875, -1.7821,  1.3129, -2.2864],\n",
       "        [ 1.0875, -1.7821,  1.3129, -2.2864,  1.0575,  0.0205],\n",
       "        [ 1.3129, -2.2864,  1.0575,  0.0205, -0.3329, -0.9840],\n",
       "        [ 1.0575,  0.0205, -0.3329, -0.9840, -0.6359,  1.3525],\n",
       "        [-0.3329, -0.9840, -0.6359,  1.3525, -0.2087,  0.0096],\n",
       "        [-0.6359,  1.3525, -0.2087,  0.0096,  0.6498, -0.6228]])"
      ]
     },
     "execution_count": 25,
     "metadata": {},
     "output_type": "execute_result"
    }
   ],
   "source": [
    "torch.cat(torch.unbind(emb, 1), dim=1)"
   ]
  },
  {
   "cell_type": "code",
   "execution_count": 26,
   "id": "8b11b7cd-ad70-4114-b809-2f2ecf7aaf3f",
   "metadata": {},
   "outputs": [
    {
     "data": {
      "text/plain": [
       "tensor([ 0,  1,  2,  3,  4,  5,  6,  7,  8,  9, 10, 11, 12, 13, 14, 15, 16, 17])"
      ]
     },
     "execution_count": 26,
     "metadata": {},
     "output_type": "execute_result"
    }
   ],
   "source": [
    "a = torch.arange(18)\n",
    "a"
   ]
  },
  {
   "cell_type": "code",
   "execution_count": 27,
   "id": "f5f8b31b-58ba-4d84-a9ea-c86d2dc39a73",
   "metadata": {},
   "outputs": [
    {
     "data": {
      "text/plain": [
       "tensor([[ 0,  1,  2,  3,  4,  5,  6,  7,  8],\n",
       "        [ 9, 10, 11, 12, 13, 14, 15, 16, 17]])"
      ]
     },
     "execution_count": 27,
     "metadata": {},
     "output_type": "execute_result"
    }
   ],
   "source": [
    "a.view(2,9)"
   ]
  },
  {
   "cell_type": "code",
   "execution_count": 28,
   "id": "77995650-cbeb-4237-965a-760824172710",
   "metadata": {},
   "outputs": [
    {
     "data": {
      "text/plain": [
       "tensor([[[ 0,  1,  2],\n",
       "         [ 3,  4,  5]],\n",
       "\n",
       "        [[ 6,  7,  8],\n",
       "         [ 9, 10, 11]],\n",
       "\n",
       "        [[12, 13, 14],\n",
       "         [15, 16, 17]]])"
      ]
     },
     "execution_count": 28,
     "metadata": {},
     "output_type": "execute_result"
    }
   ],
   "source": [
    "a.view(3,2,3)"
   ]
  },
  {
   "cell_type": "code",
   "execution_count": 29,
   "id": "0c34a07c-e136-4d74-b077-041743049f59",
   "metadata": {},
   "outputs": [
    {
     "name": "stderr",
     "output_type": "stream",
     "text": [
      "/var/folders/fl/jdrswfjx50v2304lpb3s4wxr0000gn/T/ipykernel_98729/214256462.py:1: UserWarning: TypedStorage is deprecated. It will be removed in the future and UntypedStorage will be the only storage class. This should only matter to you if you are using storages directly.  To access UntypedStorage directly, use tensor.untyped_storage() instead of tensor.storage()\n",
      "  a.storage()\n"
     ]
    },
    {
     "data": {
      "text/plain": [
       " 0\n",
       " 1\n",
       " 2\n",
       " 3\n",
       " 4\n",
       " 5\n",
       " 6\n",
       " 7\n",
       " 8\n",
       " 9\n",
       " 10\n",
       " 11\n",
       " 12\n",
       " 13\n",
       " 14\n",
       " 15\n",
       " 16\n",
       " 17\n",
       "[torch.storage.TypedStorage(dtype=torch.int64, device=cpu) of size 18]"
      ]
     },
     "execution_count": 29,
     "metadata": {},
     "output_type": "execute_result"
    }
   ],
   "source": [
    "a.storage()"
   ]
  },
  {
   "cell_type": "code",
   "execution_count": 30,
   "id": "a64a546b-eacb-4cf0-970e-687b4b005976",
   "metadata": {},
   "outputs": [
    {
     "data": {
      "text/plain": [
       "tensor([[ 1.0875, -1.7821,  1.0875, -1.7821,  1.0875, -1.7821],\n",
       "        [ 1.0875, -1.7821,  1.0875, -1.7821,  0.6356,  0.7690],\n",
       "        [ 1.0875, -1.7821,  0.6356,  0.7690,  0.1822, -0.1956],\n",
       "        [ 0.6356,  0.7690,  0.1822, -0.1956,  0.1822, -0.1956],\n",
       "        [ 0.1822, -0.1956,  0.1822, -0.1956,  0.6498, -0.6228],\n",
       "        [ 1.0875, -1.7821,  1.0875, -1.7821,  1.0875, -1.7821],\n",
       "        [ 1.0875, -1.7821,  1.0875, -1.7821,  1.0575,  0.0205],\n",
       "        [ 1.0875, -1.7821,  1.0575,  0.0205,  0.1438, -1.3259],\n",
       "        [ 1.0575,  0.0205,  0.1438, -1.3259, -0.2087,  0.0096],\n",
       "        [ 0.1438, -1.3259, -0.2087,  0.0096,  0.8089,  0.4664],\n",
       "        [-0.2087,  0.0096,  0.8089,  0.4664, -0.2087,  0.0096],\n",
       "        [ 0.8089,  0.4664, -0.2087,  0.0096,  0.6498, -0.6228],\n",
       "        [ 1.0875, -1.7821,  1.0875, -1.7821,  1.0875, -1.7821],\n",
       "        [ 1.0875, -1.7821,  1.0875, -1.7821,  0.6498, -0.6228],\n",
       "        [ 1.0875, -1.7821,  0.6498, -0.6228,  0.8089,  0.4664],\n",
       "        [ 0.6498, -0.6228,  0.8089,  0.4664,  0.6498, -0.6228],\n",
       "        [ 1.0875, -1.7821,  1.0875, -1.7821,  1.0875, -1.7821],\n",
       "        [ 1.0875, -1.7821,  1.0875, -1.7821, -0.2087,  0.0096],\n",
       "        [ 1.0875, -1.7821, -0.2087,  0.0096,  1.3129, -2.2864],\n",
       "        [-0.2087,  0.0096,  1.3129, -2.2864,  0.6498, -0.6228],\n",
       "        [ 1.3129, -2.2864,  0.6498, -0.6228,  1.9428, -0.0665],\n",
       "        [ 0.6498, -0.6228,  1.9428, -0.0665,  0.6356,  0.7690],\n",
       "        [ 1.9428, -0.0665,  0.6356,  0.7690,  0.1438, -1.3259],\n",
       "        [ 0.6356,  0.7690,  0.1438, -1.3259,  0.1438, -1.3259],\n",
       "        [ 0.1438, -1.3259,  0.1438, -1.3259,  0.6498, -0.6228],\n",
       "        [ 1.0875, -1.7821,  1.0875, -1.7821,  1.0875, -1.7821],\n",
       "        [ 1.0875, -1.7821,  1.0875, -1.7821,  1.3129, -2.2864],\n",
       "        [ 1.0875, -1.7821,  1.3129, -2.2864,  1.0575,  0.0205],\n",
       "        [ 1.3129, -2.2864,  1.0575,  0.0205, -0.3329, -0.9840],\n",
       "        [ 1.0575,  0.0205, -0.3329, -0.9840, -0.6359,  1.3525],\n",
       "        [-0.3329, -0.9840, -0.6359,  1.3525, -0.2087,  0.0096],\n",
       "        [-0.6359,  1.3525, -0.2087,  0.0096,  0.6498, -0.6228]])"
      ]
     },
     "execution_count": 30,
     "metadata": {},
     "output_type": "execute_result"
    }
   ],
   "source": [
    "emb.view(32,6)"
   ]
  },
  {
   "cell_type": "code",
   "execution_count": 31,
   "id": "d3f11565-4417-415a-9a68-b66d63c55d29",
   "metadata": {},
   "outputs": [
    {
     "data": {
      "text/plain": [
       "tensor([[True, True, True, True, True, True],\n",
       "        [True, True, True, True, True, True],\n",
       "        [True, True, True, True, True, True],\n",
       "        [True, True, True, True, True, True],\n",
       "        [True, True, True, True, True, True],\n",
       "        [True, True, True, True, True, True],\n",
       "        [True, True, True, True, True, True],\n",
       "        [True, True, True, True, True, True],\n",
       "        [True, True, True, True, True, True],\n",
       "        [True, True, True, True, True, True],\n",
       "        [True, True, True, True, True, True],\n",
       "        [True, True, True, True, True, True],\n",
       "        [True, True, True, True, True, True],\n",
       "        [True, True, True, True, True, True],\n",
       "        [True, True, True, True, True, True],\n",
       "        [True, True, True, True, True, True],\n",
       "        [True, True, True, True, True, True],\n",
       "        [True, True, True, True, True, True],\n",
       "        [True, True, True, True, True, True],\n",
       "        [True, True, True, True, True, True],\n",
       "        [True, True, True, True, True, True],\n",
       "        [True, True, True, True, True, True],\n",
       "        [True, True, True, True, True, True],\n",
       "        [True, True, True, True, True, True],\n",
       "        [True, True, True, True, True, True],\n",
       "        [True, True, True, True, True, True],\n",
       "        [True, True, True, True, True, True],\n",
       "        [True, True, True, True, True, True],\n",
       "        [True, True, True, True, True, True],\n",
       "        [True, True, True, True, True, True],\n",
       "        [True, True, True, True, True, True],\n",
       "        [True, True, True, True, True, True]])"
      ]
     },
     "execution_count": 31,
     "metadata": {},
     "output_type": "execute_result"
    }
   ],
   "source": [
    "emb.view(32,6) == torch.cat(torch.unbind(emb,1), 1)"
   ]
  },
  {
   "cell_type": "code",
   "execution_count": 32,
   "id": "8dfca4f5-bb2a-4784-9787-9a62d3dc789b",
   "metadata": {},
   "outputs": [
    {
     "data": {
      "text/plain": [
       "torch.Size([6, 100])"
      ]
     },
     "execution_count": 32,
     "metadata": {},
     "output_type": "execute_result"
    }
   ],
   "source": [
    "W1.shape"
   ]
  },
  {
   "cell_type": "code",
   "execution_count": 36,
   "id": "25f73746-581b-4a0e-bc2a-b2755246cf99",
   "metadata": {},
   "outputs": [],
   "source": [
    "h = torch.tanh(emb.view(-1, 6) @ W1 + b1)"
   ]
  },
  {
   "cell_type": "code",
   "execution_count": 37,
   "id": "3e99b011-971f-4fce-a0a9-11d434137073",
   "metadata": {},
   "outputs": [
    {
     "data": {
      "text/plain": [
       "torch.Size([32, 100])"
      ]
     },
     "execution_count": 37,
     "metadata": {},
     "output_type": "execute_result"
    }
   ],
   "source": [
    "h.shape"
   ]
  },
  {
   "cell_type": "code",
   "execution_count": 38,
   "id": "5276b61f-f1c4-4860-9063-cfd2d1c64422",
   "metadata": {},
   "outputs": [
    {
     "data": {
      "text/plain": [
       "tensor([[-1.0000, -1.0000, -0.6014,  ..., -0.9119, -0.6375, -0.9968],\n",
       "        [-1.0000, -0.9996,  0.6351,  ...,  0.9959,  0.6691, -0.9993],\n",
       "        [-0.9594, -0.8993,  0.9993,  ...,  0.8454,  0.9367, -0.9987],\n",
       "        ...,\n",
       "        [-0.9994, -0.1233,  0.7225,  ...,  0.6291, -0.8462,  0.2109],\n",
       "        [ 0.9700,  0.8844,  0.9986,  ..., -0.5935, -0.4008, -0.9987],\n",
       "        [ 0.8444, -0.3166, -0.9880,  ..., -1.0000, -0.9943, -0.9041]])"
      ]
     },
     "execution_count": 38,
     "metadata": {},
     "output_type": "execute_result"
    }
   ],
   "source": [
    "h"
   ]
  },
  {
   "cell_type": "code",
   "execution_count": 39,
   "id": "47ac46a1-d7e4-4f46-934f-60f0fb706343",
   "metadata": {},
   "outputs": [],
   "source": [
    "W2 = torch.randn((100, 27))\n",
    "b2 = torch.randn(27)"
   ]
  },
  {
   "cell_type": "code",
   "execution_count": 40,
   "id": "6b6d9be7-4348-407f-9543-cd78293bc783",
   "metadata": {},
   "outputs": [],
   "source": [
    "logits = h @ W2 + b2"
   ]
  },
  {
   "cell_type": "code",
   "execution_count": 41,
   "id": "4246145a-8892-48b4-8c64-ea32a54c36fe",
   "metadata": {},
   "outputs": [
    {
     "data": {
      "text/plain": [
       "torch.Size([32, 27])"
      ]
     },
     "execution_count": 41,
     "metadata": {},
     "output_type": "execute_result"
    }
   ],
   "source": [
    "logits.shape"
   ]
  },
  {
   "cell_type": "code",
   "execution_count": 43,
   "id": "97d4f6f0-c105-41d6-9279-65b9f4b22777",
   "metadata": {},
   "outputs": [],
   "source": [
    "counts = logits.exp()"
   ]
  },
  {
   "cell_type": "code",
   "execution_count": 45,
   "id": "1dd72a29-b557-4f6d-8aef-5da6b45c6929",
   "metadata": {},
   "outputs": [],
   "source": [
    "prob = counts / counts.sum(1, keepdims=True)"
   ]
  },
  {
   "cell_type": "code",
   "execution_count": 46,
   "id": "d0267a09-8760-47d6-bba2-ab76b0a58842",
   "metadata": {},
   "outputs": [
    {
     "data": {
      "text/plain": [
       "torch.Size([32, 27])"
      ]
     },
     "execution_count": 46,
     "metadata": {},
     "output_type": "execute_result"
    }
   ],
   "source": [
    "prob.shape"
   ]
  },
  {
   "cell_type": "code",
   "execution_count": 48,
   "id": "83722da1-c429-49ef-b866-83ff3252fd76",
   "metadata": {},
   "outputs": [
    {
     "data": {
      "text/plain": [
       "tensor(1.)"
      ]
     },
     "execution_count": 48,
     "metadata": {},
     "output_type": "execute_result"
    }
   ],
   "source": [
    "prob[0].sum()"
   ]
  },
  {
   "cell_type": "code",
   "execution_count": 50,
   "id": "7e1c909f-b439-4a11-8d8f-9e9807ab2231",
   "metadata": {},
   "outputs": [
    {
     "data": {
      "text/plain": [
       "tensor([2.8678e-09, 1.0818e-04, 2.4256e-09, 1.6952e-06, 6.8562e-12, 1.5596e-05,\n",
       "        1.6202e-08, 3.6411e-08, 4.0412e-10, 3.1111e-05, 2.4072e-03, 1.5521e-09,\n",
       "        1.6255e-11, 1.3945e-10, 8.2458e-14, 2.2434e-10, 9.5562e-06, 8.8784e-10,\n",
       "        6.6895e-13, 7.4427e-11, 9.9175e-16, 1.1720e-04, 1.1246e-04, 4.2147e-07,\n",
       "        3.2989e-12, 1.1669e-06, 3.6523e-05, 1.6343e-14, 4.7290e-11, 4.3314e-09,\n",
       "        7.4479e-07, 4.5324e-14])"
      ]
     },
     "execution_count": 50,
     "metadata": {},
     "output_type": "execute_result"
    }
   ],
   "source": [
    "prob[torch.arange(32), Y]  # predictions for each training example"
   ]
  },
  {
   "cell_type": "code",
   "execution_count": 52,
   "id": "2149db3c-fff0-4c5f-b8cc-5209e9acdce8",
   "metadata": {},
   "outputs": [
    {
     "data": {
      "text/plain": [
       "tensor(19.1569)"
      ]
     },
     "execution_count": 52,
     "metadata": {},
     "output_type": "execute_result"
    }
   ],
   "source": [
    "loss = -prob[torch.arange(32), Y].log().mean()\n",
    "loss"
   ]
  },
  {
   "cell_type": "code",
   "execution_count": 53,
   "id": "3a6406a4-68df-4b93-99d2-e102e89e8c65",
   "metadata": {},
   "outputs": [],
   "source": [
    "# ---------------- more respectable :) ------------------ #"
   ]
  },
  {
   "cell_type": "code",
   "execution_count": 186,
   "id": "947c940c-7fc6-47ca-b525-311fbea89ad6",
   "metadata": {},
   "outputs": [
    {
     "data": {
      "text/plain": [
       "(torch.Size([182437, 3]), torch.Size([182437]))"
      ]
     },
     "execution_count": 186,
     "metadata": {},
     "output_type": "execute_result"
    }
   ],
   "source": [
    "Xtr.shape, Ytr.shape # dataset"
   ]
  },
  {
   "cell_type": "code",
   "execution_count": 207,
   "id": "b809fcd3-d498-4231-8a65-39b4e4fe67e5",
   "metadata": {},
   "outputs": [],
   "source": [
    "g = torch.Generator().manual_seed(2147483647)\n",
    "C = torch.randn((27, 10), generator=g)\n",
    "W1 = torch.randn((30, 200), generator=g)\n",
    "b1 = torch.randn(200, generator=g)\n",
    "W2 = torch.randn((200, 27), generator = g)\n",
    "b2 = torch.randn(27, generator=g)\n",
    "parameters = [C, W1, b1, W2, b2]"
   ]
  },
  {
   "cell_type": "code",
   "execution_count": 208,
   "id": "891ffbb2-c1a2-4450-96b4-556874bb9797",
   "metadata": {},
   "outputs": [
    {
     "data": {
      "text/plain": [
       "11897"
      ]
     },
     "execution_count": 208,
     "metadata": {},
     "output_type": "execute_result"
    }
   ],
   "source": [
    "sum(p.nelement() for p in parameters) # number of parameters in total"
   ]
  },
  {
   "cell_type": "code",
   "execution_count": 209,
   "id": "bd909dc7-dddb-4e26-a8aa-113b90ff052a",
   "metadata": {},
   "outputs": [],
   "source": [
    "for p in parameters:\n",
    "    p.requires_grad = True"
   ]
  },
  {
   "cell_type": "code",
   "execution_count": 210,
   "id": "8dd1a87e-475c-4625-a876-39a982d76da4",
   "metadata": {},
   "outputs": [],
   "source": [
    "# lri = [] \n",
    "lossi = []\n",
    "stepi = []"
   ]
  },
  {
   "cell_type": "code",
   "execution_count": 224,
   "id": "3248572e-1af5-4688-8c70-f6074f4ec4d3",
   "metadata": {},
   "outputs": [
    {
     "name": "stdout",
     "output_type": "stream",
     "text": [
      "0\n",
      "1000\n",
      "2000\n",
      "3000\n",
      "4000\n",
      "5000\n",
      "6000\n",
      "7000\n",
      "8000\n",
      "9000\n",
      "10000\n",
      "11000\n",
      "12000\n",
      "13000\n",
      "14000\n",
      "15000\n",
      "16000\n",
      "17000\n",
      "18000\n",
      "19000\n",
      "20000\n",
      "21000\n",
      "22000\n",
      "23000\n",
      "24000\n",
      "25000\n",
      "26000\n",
      "27000\n",
      "28000\n",
      "29000\n",
      "30000\n",
      "31000\n",
      "32000\n",
      "33000\n",
      "34000\n",
      "35000\n",
      "36000\n",
      "37000\n",
      "38000\n",
      "39000\n",
      "40000\n",
      "41000\n",
      "42000\n",
      "43000\n",
      "44000\n",
      "45000\n",
      "46000\n",
      "47000\n",
      "48000\n",
      "49000\n",
      "50000\n",
      "51000\n",
      "52000\n",
      "53000\n",
      "54000\n",
      "55000\n",
      "56000\n",
      "57000\n",
      "58000\n",
      "59000\n",
      "60000\n",
      "61000\n",
      "62000\n",
      "63000\n",
      "64000\n",
      "65000\n",
      "66000\n",
      "67000\n",
      "68000\n",
      "69000\n",
      "70000\n",
      "71000\n",
      "72000\n",
      "73000\n",
      "74000\n",
      "75000\n",
      "76000\n",
      "77000\n",
      "78000\n",
      "79000\n",
      "80000\n",
      "81000\n",
      "82000\n",
      "83000\n",
      "84000\n",
      "85000\n",
      "86000\n",
      "87000\n",
      "88000\n",
      "89000\n",
      "90000\n",
      "91000\n",
      "92000\n",
      "93000\n",
      "94000\n",
      "95000\n",
      "96000\n",
      "97000\n",
      "98000\n",
      "99000\n",
      "100000\n",
      "101000\n",
      "102000\n",
      "103000\n",
      "104000\n",
      "105000\n",
      "106000\n",
      "107000\n",
      "108000\n",
      "109000\n",
      "110000\n",
      "111000\n",
      "112000\n",
      "113000\n",
      "114000\n",
      "115000\n",
      "116000\n",
      "117000\n",
      "118000\n",
      "119000\n",
      "120000\n",
      "121000\n",
      "122000\n",
      "123000\n",
      "124000\n",
      "125000\n",
      "126000\n",
      "127000\n",
      "128000\n",
      "129000\n",
      "130000\n",
      "131000\n",
      "132000\n",
      "133000\n",
      "134000\n",
      "135000\n",
      "136000\n",
      "137000\n",
      "138000\n",
      "139000\n",
      "140000\n",
      "141000\n",
      "142000\n",
      "143000\n",
      "144000\n",
      "145000\n",
      "146000\n",
      "147000\n",
      "148000\n",
      "149000\n",
      "150000\n",
      "151000\n",
      "152000\n",
      "153000\n",
      "154000\n",
      "155000\n",
      "156000\n",
      "157000\n",
      "158000\n",
      "159000\n",
      "160000\n",
      "161000\n",
      "162000\n",
      "163000\n",
      "164000\n",
      "165000\n",
      "166000\n",
      "167000\n",
      "168000\n",
      "169000\n",
      "170000\n",
      "171000\n",
      "172000\n",
      "173000\n",
      "174000\n",
      "175000\n",
      "176000\n",
      "177000\n",
      "178000\n",
      "179000\n",
      "180000\n",
      "181000\n",
      "182000\n",
      "183000\n",
      "184000\n",
      "185000\n",
      "186000\n",
      "187000\n",
      "188000\n",
      "189000\n",
      "190000\n",
      "191000\n",
      "192000\n",
      "193000\n",
      "194000\n",
      "195000\n",
      "196000\n",
      "197000\n",
      "198000\n",
      "199000\n",
      "200000\n",
      "201000\n",
      "202000\n",
      "203000\n",
      "204000\n",
      "205000\n",
      "206000\n",
      "207000\n",
      "208000\n",
      "209000\n",
      "210000\n",
      "211000\n",
      "212000\n",
      "213000\n",
      "214000\n",
      "215000\n",
      "216000\n",
      "217000\n",
      "218000\n",
      "219000\n",
      "220000\n",
      "221000\n",
      "222000\n",
      "223000\n",
      "224000\n",
      "225000\n",
      "226000\n",
      "227000\n",
      "228000\n",
      "229000\n",
      "230000\n",
      "231000\n",
      "232000\n",
      "233000\n",
      "234000\n",
      "235000\n",
      "236000\n",
      "237000\n",
      "238000\n",
      "239000\n",
      "240000\n",
      "241000\n",
      "242000\n",
      "243000\n",
      "244000\n",
      "245000\n",
      "246000\n",
      "247000\n",
      "248000\n",
      "249000\n",
      "250000\n",
      "251000\n",
      "252000\n",
      "253000\n",
      "254000\n",
      "255000\n",
      "256000\n",
      "257000\n",
      "258000\n",
      "259000\n",
      "260000\n",
      "261000\n",
      "262000\n",
      "263000\n",
      "264000\n",
      "265000\n",
      "266000\n",
      "267000\n",
      "268000\n",
      "269000\n",
      "270000\n",
      "271000\n",
      "272000\n",
      "273000\n",
      "274000\n",
      "275000\n",
      "276000\n",
      "277000\n",
      "278000\n",
      "279000\n",
      "280000\n",
      "281000\n",
      "282000\n",
      "283000\n",
      "284000\n",
      "285000\n",
      "286000\n",
      "287000\n",
      "288000\n",
      "289000\n",
      "290000\n",
      "291000\n",
      "292000\n",
      "293000\n",
      "294000\n",
      "295000\n",
      "296000\n",
      "297000\n",
      "298000\n",
      "299000\n",
      "300000\n",
      "301000\n",
      "302000\n",
      "303000\n",
      "304000\n",
      "305000\n",
      "306000\n",
      "307000\n",
      "308000\n",
      "309000\n",
      "310000\n",
      "311000\n",
      "312000\n",
      "313000\n",
      "314000\n",
      "315000\n",
      "316000\n",
      "317000\n",
      "318000\n",
      "319000\n",
      "320000\n",
      "321000\n",
      "322000\n",
      "323000\n",
      "324000\n",
      "325000\n",
      "326000\n",
      "327000\n",
      "328000\n",
      "329000\n",
      "330000\n",
      "331000\n",
      "332000\n",
      "333000\n",
      "334000\n",
      "335000\n",
      "336000\n",
      "337000\n",
      "338000\n",
      "339000\n",
      "340000\n",
      "341000\n",
      "342000\n",
      "343000\n",
      "344000\n",
      "345000\n",
      "346000\n",
      "347000\n",
      "348000\n",
      "349000\n",
      "350000\n",
      "351000\n",
      "352000\n",
      "353000\n",
      "354000\n",
      "355000\n",
      "356000\n",
      "357000\n",
      "358000\n",
      "359000\n",
      "360000\n",
      "361000\n",
      "362000\n",
      "363000\n",
      "364000\n",
      "365000\n",
      "366000\n",
      "367000\n",
      "368000\n",
      "369000\n",
      "370000\n",
      "371000\n",
      "372000\n",
      "373000\n",
      "374000\n",
      "375000\n",
      "376000\n",
      "377000\n",
      "378000\n",
      "379000\n",
      "380000\n",
      "381000\n",
      "382000\n",
      "383000\n",
      "384000\n",
      "385000\n",
      "386000\n",
      "387000\n",
      "388000\n",
      "389000\n",
      "390000\n",
      "391000\n",
      "392000\n",
      "393000\n",
      "394000\n",
      "395000\n",
      "396000\n",
      "397000\n",
      "398000\n",
      "399000\n",
      "400000\n",
      "401000\n",
      "402000\n",
      "403000\n",
      "404000\n",
      "405000\n",
      "406000\n",
      "407000\n",
      "408000\n",
      "409000\n",
      "410000\n",
      "411000\n",
      "412000\n",
      "413000\n",
      "414000\n",
      "415000\n",
      "416000\n",
      "417000\n",
      "418000\n",
      "419000\n",
      "420000\n",
      "421000\n",
      "422000\n",
      "423000\n",
      "424000\n",
      "425000\n",
      "426000\n",
      "427000\n",
      "428000\n",
      "429000\n",
      "430000\n",
      "431000\n",
      "432000\n",
      "433000\n",
      "434000\n",
      "435000\n",
      "436000\n",
      "437000\n",
      "438000\n",
      "439000\n",
      "440000\n",
      "441000\n",
      "442000\n",
      "443000\n",
      "444000\n",
      "445000\n",
      "446000\n",
      "447000\n",
      "448000\n",
      "449000\n",
      "450000\n",
      "451000\n",
      "452000\n",
      "453000\n",
      "454000\n",
      "455000\n",
      "456000\n",
      "457000\n",
      "458000\n",
      "459000\n",
      "460000\n",
      "461000\n",
      "462000\n",
      "463000\n",
      "464000\n",
      "465000\n",
      "466000\n",
      "467000\n",
      "468000\n",
      "469000\n",
      "470000\n",
      "471000\n",
      "472000\n",
      "473000\n",
      "474000\n",
      "475000\n",
      "476000\n",
      "477000\n",
      "478000\n",
      "479000\n",
      "480000\n",
      "481000\n",
      "482000\n",
      "483000\n",
      "484000\n",
      "485000\n",
      "486000\n",
      "487000\n",
      "488000\n",
      "489000\n",
      "490000\n",
      "491000\n",
      "492000\n",
      "493000\n",
      "494000\n",
      "495000\n",
      "496000\n",
      "497000\n",
      "498000\n",
      "499000\n",
      "2.1304514408111572\n"
     ]
    }
   ],
   "source": [
    "for i in range(500000):\n",
    "    if i % 1000 == 0:\n",
    "        print(i)\n",
    "    # minibatch construct\n",
    "    ix = torch.randint(0, Xtr.shape[0], (32,))\n",
    "    \n",
    "    # forward pass\n",
    "    emb = C[Xtr[ix]] # (32, 3, 2)\n",
    "    h = torch.tanh(emb.view(-1, 30) @ W1 + b1) # (32, 100)\n",
    "    logits = h @ W2 + b2\n",
    "    loss = F.cross_entropy(logits, Ytr[ix])\n",
    "    # print(loss.item())    \n",
    "    \n",
    "    # backward pass\n",
    "    for p in parameters:\n",
    "        p.grad = None\n",
    "    loss.backward()\n",
    "    \n",
    "    # update\n",
    "    # lr = lrs[i]\n",
    "    lr = 0.01\n",
    "    for p in parameters:\n",
    "        p.data += -lr * p.grad\n",
    "\n",
    "    # track stats\n",
    "    # lri.append(lre[i])\n",
    "    lossi.append(loss.log10().item())\n",
    "    stepi.append(i)\n",
    "\n",
    "print(loss.item())    "
   ]
  },
  {
   "cell_type": "code",
   "execution_count": 225,
   "id": "8da9dd82-5e91-476f-b6c0-f0aae4049cfb",
   "metadata": {},
   "outputs": [
    {
     "data": {
      "text/plain": [
       "[<matplotlib.lines.Line2D at 0x14c484ed0>]"
      ]
     },
     "execution_count": 225,
     "metadata": {},
     "output_type": "execute_result"
    },
    {
     "data": {
      "image/png": "[encoded data removed]",
      "text/plain": [
       "<Figure size 640x480 with 1 Axes>"
      ]
     },
     "metadata": {},
     "output_type": "display_data"
    }
   ],
   "source": [
    "plt.plot(stepi, lossi)"
   ]
  },
  {
   "cell_type": "code",
   "execution_count": 226,
   "id": "b23af53c-9e82-4730-998e-43da5efba252",
   "metadata": {},
   "outputs": [
    {
     "data": {
      "text/plain": [
       "tensor(2.1294, grad_fn=<NllLossBackward0>)"
      ]
     },
     "execution_count": 226,
     "metadata": {},
     "output_type": "execute_result"
    }
   ],
   "source": [
    "emb = C[Xtr]\n",
    "h = torch.tanh(emb.view(-1, 30) @ W1 + b1)\n",
    "logits = h @ W2 + b2\n",
    "loss = F.cross_entropy(logits, Ytr)\n",
    "loss"
   ]
  },
  {
   "cell_type": "code",
   "execution_count": 227,
   "id": "5e8ed3cf-4ef6-4039-ad88-ed71798e6ca5",
   "metadata": {},
   "outputs": [
    {
     "data": {
      "text/plain": [
       "tensor(2.1845, grad_fn=<NllLossBackward0>)"
      ]
     },
     "execution_count": 227,
     "metadata": {},
     "output_type": "execute_result"
    }
   ],
   "source": [
    "emb = C[Xdev]\n",
    "h = torch.tanh(emb.view(-1, 30) @ W1 + b1)\n",
    "logits = h @ W2 + b2\n",
    "loss = F.cross_entropy(logits, Ydev)\n",
    "loss"
   ]
  },
  {
   "cell_type": "code",
   "execution_count": 228,
   "id": "3c12f93c-0dae-43f4-8d9c-65370c135a7d",
   "metadata": {},
   "outputs": [
    {
     "data": {
      "image/png": "[encoded data removed]",
      "text/plain": [
       "<Figure size 800x800 with 1 Axes>"
      ]
     },
     "metadata": {},
     "output_type": "display_data"
    }
   ],
   "source": [
    "plt.figure(figsize=(8,8))\n",
    "plt.scatter(C[:,0].data, C[:,1].data, s=200)\n",
    "for i in range(C.shape[0]):\n",
    "    plt.text(C[i,0].item(), C[i,1].item(), itos[i], ha=\"center\", va=\"center\", color='white')\n",
    "plt.grid('minor')"
   ]
  },
  {
   "cell_type": "code",
   "execution_count": 230,
   "id": "dea0659a-86bb-4185-bc4a-b0ad92e29d98",
   "metadata": {},
   "outputs": [
    {
     "name": "stdout",
     "output_type": "stream",
     "text": [
      "mora.\n",
      "kmyanniellen.\n",
      "hayah.\n",
      "rethracejerneg.\n",
      "azeredielin.\n",
      "shi.\n",
      "jenleigh.\n",
      "van.\n",
      "narah.\n",
      "teimhotel.\n",
      "noshibergah.\n",
      "miel.\n",
      "kini.\n",
      "wellionnie.\n",
      "cayus.\n",
      "kyven.\n",
      "jamelizekshima.\n",
      "miston.\n",
      "azhia.\n",
      "salynn.\n"
     ]
    }
   ],
   "source": [
    "# sample from the model\n",
    "g = torch.Generator().manual_seed(2147483647 + 10)\n",
    "\n",
    "for _ in range(20):\n",
    "    out = []\n",
    "    context = [0] * block_size # initialize with all ...\n",
    "    while True:\n",
    "        emb = C[torch.tensor([context])] # (1, block_size, d)\n",
    "        h = torch.tanh(emb.view(1, -1) @ W1 + b1)\n",
    "        logits = h @ W2 + b2\n",
    "        probs = F.softmax(logits, dim=1)\n",
    "        ix = torch.multinomial(probs, num_samples=1, generator=g).item()\n",
    "        context = context[1:] + [ix]\n",
    "        out.append(ix)\n",
    "        if ix == 0:\n",
    "            break\n",
    "    print(''.join(itos[i] for i in out))\n",
    "        "
   ]
  },
  {
   "cell_type": "code",
   "execution_count": null,
   "id": "155705b7-c799-4397-94be-b4126ead63bd",
   "metadata": {},
   "outputs": [],
   "source": []
  }
 ],
 "metadata": {
  "kernelspec": {
   "display_name": "Python 3 (ipykernel)",
   "language": "python",
   "name": "python3"
  },
  "language_info": {
   "codemirror_mode": {
    "name": "ipython",
    "version": 3
   },
   "file_extension": ".py",
   "mimetype": "text/x-python",
   "name": "python",
   "nbconvert_exporter": "python",
   "pygments_lexer": "ipython3",
   "version": "3.11.6"
  }
 },
 "nbformat": 4,
 "nbformat_minor": 5
}
